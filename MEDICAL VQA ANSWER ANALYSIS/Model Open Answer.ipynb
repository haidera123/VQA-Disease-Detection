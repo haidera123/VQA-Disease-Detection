{
  "cells": [
    {
      "attachments": {},
      "cell_type": "markdown",
      "metadata": {
        "id": "kGxwF_67LEdt"
      },
      "source": [
        "\n",
        "\n",
        "### **WHAT DOES THIS NOTEBOOK CONTAINS:**\n",
        "\n",
        "## This Notebook is divided into three parts:\n",
        "\n",
        "#### **PART: 1 Question to Embedding**\n",
        "#### **PART: 2 Loading and Preparaing the dataset for the Model**\n",
        "#### **PART: 3 Making the Model**\n",
        "\n",
        "\n",
        "* This notebook starts from just loading data, which are mentioned as below:\n",
        "1. **trainset.json**: \n",
        "\n",
        "Contains a list of following enteries: \n",
        "\n",
        "              * qid\n",
        "              * image_name\n",
        "              * image_organ\n",
        "              * answer\n",
        "              * answer_type\n",
        "              * question\n",
        "              * question_type\n",
        "              * phrase_type\n",
        "An example is: {\"qid\": 1, \"image_name\": \"synpic54610.jpg\", \"image_organ\": \"HEAD\", \"answer\": \"Yes\", \"answer_type\": \"CLOSED\", \"question_type\": \"PRES\", \"question\": \"Are regions of the brain infarcted?\", \"phrase_type\": \"freeform\"}\n",
        "\n",
        "2. **VQA_RAD Image Folder** : This folder contains the images (in .jpg format), whose name are the qid (as mentioned in the trainset.json)"
      ]
    },
    {
      "cell_type": "code",
      "execution_count": 1,
      "metadata": {
        "id": "1Q_LRnCeerei"
      },
      "outputs": [],
      "source": [
        "import warnings\n",
        "warnings.filterwarnings('ignore')"
      ]
    },
    {
      "cell_type": "code",
      "execution_count": 2,
      "metadata": {
        "id": "dksA3CC0C3FZ"
      },
      "outputs": [],
      "source": [
        "import gensim\n",
        "from gensim.models.keyedvectors import KeyedVectors\n",
        "model_path = r'./Copy of GoogleNews-vectors-negative300.bin.gz'            # Path where the model is stored\n",
        "model_w2v = gensim.models.KeyedVectors.load_word2vec_format(model_path, binary=True)            # Loading the model using gensim"
      ]
    },
    {
      "cell_type": "code",
      "execution_count": 3,
      "metadata": {
        "colab": {
          "base_uri": "https://localhost:8080/"
        },
        "id": "mRCcur7DCmjn",
        "outputId": "a369dbaa-f5e0-4649-d2f1-19a5ad70bebb"
      },
      "outputs": [
        {
          "name": "stderr",
          "output_type": "stream",
          "text": [
            "[nltk_data] Downloading package punkt to\n",
            "[nltk_data]     C:\\Users\\pc\\AppData\\Roaming\\nltk_data...\n",
            "[nltk_data]   Package punkt is already up-to-date!\n"
          ]
        },
        {
          "name": "stdout",
          "output_type": "stream",
          "text": [
            "top answer and their counts:\n",
            "(31, 'right')\n",
            "(31, 'axial')\n",
            "(19, 'left')\n",
            "(15, 'fat')\n",
            "(12, 'right lung')\n",
            "(12, 'pancreas')\n",
            "(12, 'one')\n",
            "(10, 'right upper lobe')\n",
            "(10, 'right sided pleural effusion')\n",
            "(10, 'pa')\n",
            "(10, 'left kidney')\n",
            "(10, 'brain')\n",
            "(9, 'lateral ventricles')\n",
            "(8, 'subarachnoid')\n",
            "(8, 'ring enhancing lesion')\n",
            "(8, 'right temporal lobe')\n",
            "(8, 'right side')\n",
            "(8, 'right lobe of the liver')\n",
            "(8, 'right cerebellum')\n",
            "(8, 'ribs')\n",
            "0 What type of imaging does this not represent?\n",
            "1 What is not pictured in this image?\n",
            "2 Where is the abnormality?\n",
            "3 Which organ system is abnormal in this image?\n",
            "4 Where is the pathology in this image?\n",
            "5 What type of imaging is this?\n",
            "6 What organ system is pictured?\n",
            "7 What type of image is this?\n",
            "8 In what plane is this image oriented?\n",
            "9 What is/are the abnormalities  near/in the lung?\n",
            "10 What is/are the abnormalities  near/in the lung?\n",
            "11 What is/are the hypointensity near/in the R hemidiaphragm?\n",
            "12 What is/are the hypointensity near/in the R hemidiaphragm?\n",
            "13 How would you describe the abnormality?\n",
            "14 How would you describe the abnormality?\n",
            "15 What organ system is evaluated primarily?\n",
            "16 How would you describe the lesion?\n",
            "17 What are key characteristics of the lesion?\n",
            "18 How would you describe the abnormality?\n",
            "19 How would you describe the abnormality?\n",
            "20 What kind of scan is this?\n",
            "21 What kind of image is this?\n",
            "22 What organ is enlarged?\n",
            "23 Where is/are the abnormality located?\n",
            "24 Which organ has the abnormality?\n",
            "25 Where is/are the abnormality located?\n",
            "26 where is the cavitary lesion?\n",
            "27 Where is/are the cavitary lesion located?\n",
            "28 where is the abnormality?\n",
            "29 Where is/are the cavitary lesion located?\n",
            "30 What density is the abnormality?\n",
            "31 What is/are the density of abnormality?\n",
            "32 What part of the liver is the mass located in?\n",
            "33 Where is/are the mass located?\n",
            "34 Where is the mass in the liver?\n",
            "35 Where is/are the mass located?\n",
            "36 What organ is primarily evaluated in this image?\n",
            "37 What hemisphere are the lesions located in?\n",
            "38 Where are the abnormalities?\n",
            "39 What does nodular liver suggest?\n",
            "40 What does the shape of the liver suggest?\n",
            "41 What is the brightness in the abdominal aorta?\n",
            "42 What is/are the hyperintensity near/in the aorta?\n",
            "43 What causes hyper intensity in aorta?\n",
            "44 What is/are the hyperintensity near/in the aorta?\n",
            "45 Where in the brain is the lesion?\n",
            "46 Where is/are the mass located?\n",
            "47 Where is the lesion?\n",
            "48 Where is/are the mass located?\n",
            "49 Which organ system is imaged?\n",
            "50 What does the hypodensity suggest?\n",
            "51 What caused the lesion?\n",
            "52 In what plane is this image taken?\n",
            "53 What is abnormal about the hila?\n",
            "54 How would you describe the hila?\n",
            "55 What is happening in the right lung?\n",
            "56 What is/are abnormal right lung ?\n",
            "57 What is finding in the right lung?\n",
            "58 What is/are abnormal right lung ?\n",
            "59 How many spleen lesions are present/visualized in the image?\n",
            "60 What is most alarming about the appendix?\n",
            "61 What is/are the abnormalities near/in the lung apices?\n",
            "62 What is/are the abnormalities near/in the lung apices?\n",
            "63 Where is the mass?\n",
            "64 What can cause asymmetrical breasts?\n",
            "65 Why are the breasts asymmetrical?\n",
            "66 How would you describe the abnormalities?\n",
            "67 Where is/are the lesion located?\n",
            "68 Where is/are the abnormality located?\n",
            "69 What organ is the mass in?\n",
            "70 Where is/are the mass located?\n",
            "71 Where is the mass?\n",
            "72 Where is/are the mass located?\n",
            "73 What abnormalities are in the right upper quadrant?\n",
            "74 What is/are the abnormalities near/in the right upper quadrant?\n",
            "75 What is in the right upper quadrant?\n",
            "76 What is/are the abnormalities near/in the right upper quadrant?\n",
            "77 Which kidney is abnormal?\n",
            "78 Where is/are the abnormality located?\n",
            "79 Which kidney has abnormalities?\n",
            "80 Where is/are the abnormality located?\n",
            "81 What is the image suggestive of?\n",
            "82 What is the lesion most likely to be?\n",
            "83 Describe the lesions in the right kidney?\n",
            "84 How would you describe the lesion?\n",
            "85 What is seen in the right kidney?\n",
            "86 How would you describe the aortopulmonary window?\n",
            "87 What is/are the characteristic finding near/in the aortopulmonary window?\n",
            "88 What is/are the sign near/in the aortopulmonary window?\n",
            "89 Where is/are the abnormality located?\n",
            "90 Where is/are the abnormality located?\n",
            "91 Describe the appendix\n",
            "92 Where is the mass?\n",
            "93 Where is the abnormality?\n",
            "94 Where is/are the linear hypodensity located?\n",
            "95 Where is the hypodensity located?\n",
            "96 Where is/are the linear hypodensity located?\n",
            "97 Which hemisphere is the ischemia located?\n",
            "98 Where is/are the abnormality located?\n",
            "99 Where is the abnormality?\n",
            "100 Where is/are the abnormality located?\n",
            "101 Where is the abnormality in this image?\n",
            "102 Where is the catheter tip located?\n",
            "103 Where is/are the catheter tip located?\n",
            "104 Where does the catheter tip extend into?\n",
            "105 Where is/are the catheter tip located?\n",
            "106 What does the abnormality suggest?\n",
            "107 What causes the hyperintensity?\n",
            "108 Where is the mass?\n",
            "109 Where is/are the mass located?\n",
            "110 Where is the mass located?\n",
            "111 Where is/are the mass located?\n",
            "112 Which plane is the image taken?\n",
            "113 Where is this plane relative to the eyes?\n",
            "114 How was this x-ray taken?\n",
            "115 Which ribs are located near the abnormality seen in this image?\n",
            "116 What level is the abnormality located at?\n",
            "117 How wide is the cardiac shadow?\n",
            "118 How wide is/are the cardiac shadow? -open\n",
            "119 What lesions are present in the lungs?\n",
            "120 How big is the liver lesion?\n",
            "121 How big is/are the liver lesion? -open\n",
            "122 What is the size of the mass lesion?\n",
            "123 How big is/are the liver lesion? -open\n",
            "124 What is the modality by which the image was taken?\n",
            "125 Where in the image are the calcifications located?\n",
            "126 Where is the aortic arch?\n",
            "127 Where is/are the aortic arch located?\n",
            "128 Which side of the image is the aortic arch visualized?\n",
            "129 Where is/are the aortic arch located?\n",
            "130 Where is the lung lesion located?\n",
            "131 Where is/are the lung lesion located?\n",
            "132 Which lobe of the lung is the lesion located in?\n",
            "133 Where is/are the lung lesion located?\n",
            "134 Where in this image are the bowel loops?\n",
            "135 What indicates that appendicitis is present?\n",
            "136 How many instances of intussusception are present/visualized in the image? - open\n",
            "137 Besides the intestines, what other organs are present?\n",
            "138 Where is the intussesception located?\n",
            "139 Where is/are the intussesception located?\n",
            "140 How many lesions are present in the image?\n",
            "141 How many lesions are present/visualized in the image?\n",
            "142 Where on the image is the lesion?\n",
            "143 What are the two major organs present in this image?\n",
            "144 How wide is/are the heart compared to the thorax? -open\n",
            "145 Where is the largest cystic lesion in the image?\n",
            "146 Where is/are the largest cystic lesion located?\n",
            "147 What is denser, the cystic lesions or the kidney parenchyma?\n",
            "148 Where is/are the free air located?\n",
            "149 What is the organ system visualized?\n",
            "150 Where is the lesion?\n",
            "151 Where is/are the lesion located?\n",
            "152 Which lung lobe is the lesion present in?\n",
            "153 Where is/are the lesion located?\n",
            "154 Where is the aneurysm located?\n",
            "155 Where is/are the aneurysm located?\n",
            "156 What is the most important abnormality found in this image?\n",
            "157 Where is/are the ascending colon located?\n",
            "158 At which rib is the lesion located?\n",
            "159 What rib is the lesion located inferior to?\n",
            "160 On which side is the cardiac border more obscured?\n",
            "161 Where is the cardiac border more obscured?\n",
            "162 What organ system is primarily present in this image?\n",
            "163 Which side of the cardiac border is more prominent?\n",
            "164 Which cardiac border is more prominently visualized?\n",
            "165 Which lung has more extensive infiltration?\n",
            "166 Where is/are the most infiltrates  located?\n",
            "167 Where are the most infiltrates located?\n",
            "168 Where is/are the most infiltrates  located?\n",
            "169 How would you describe the duodenum?\n",
            "170 How would you describe the duodenum?\n",
            "171 Where is the largest air collection in this image?\n",
            "172 Where is the lesion located?\n",
            "173 Where is/are the lesion located?\n",
            "174 What is the location of the primary lesion?\n",
            "175 Where is/are the lesion located?\n",
            "176 Which side is the lateral ventricle visible on?\n",
            "177 Where is/are the lateral ventricle located?\n",
            "178 Where is the lateral ventricle?\n",
            "179 Where is/are the lateral ventricle located?\n",
            "180 Where is the lesion located?\n",
            "181 Where is/are the lesion located?\n",
            "182 Which liver lobe is the lesion in?\n",
            "183 Where is/are the lesion located?\n",
            "184 Where is/are the subcutaneous air collection? \n",
            "185 What is the opacity near the left lung apex?\n",
            "186 What is/are the opacity near/in the left lung apex? \n",
            "187 What is/are the that near/in the left apex?\n",
            "188 Where is/are the lesion located?\n",
            "189 How was this image taken?\n",
            "190 Where is/are the kidneys located?\n",
            "191 Where is the lesion?\n",
            "192 Where is/are the lesion located?\n",
            "193 Which lobe is the lesion located in?\n",
            "194 Where is/are the lesion located?\n",
            "195 Where on the image is most obscured?\n",
            "196 What are the opacities to the left?\n",
            "197 What are those densities in the wall of the aorta?\n",
            "198 What is the radiological description of the color of the edema?\n",
            "199 In which lobe is the nodule located?\n",
            "200 What is the organ principally shown in this image?\n",
            "201 What are those lines in the posterior brain?\n",
            "202 What are these densities inside the intestines?\n",
            "203 What is the name of this image's plane?\n",
            "204 In which lobe is the enhancement?\n",
            "205 What is the plane of this image?\n",
            "206 What is happening with the path of the trachea?\n",
            "207 Where are the enlarged feeding arteries located?\n",
            "208 Is the renal mass distending the abdominal wall?\n",
            "209 What is the hypodensity in the posterior left?\n",
            "210 What is this mass to the left of the patient?\n",
            "211 What are these hyperintensities to the right?\n",
            "212 What are these hypodensities in the liver?\n",
            "213 In which lobe is the cyst?\n",
            "214 How do we call these wide undulations along the vertebral column?\n",
            "215 To which side is the trachea deviated?\n",
            "216 What is/are the bright white structures near/in the center that form an X?\n",
            "217 What is/are the bright white structures near/in the center that form an X?\n",
            "218 What is the likely sex of this patient?\n",
            "219 Approximately how much time was required to obtain this image?\n",
            "220 The dark areas of the image show what type of brain matter?\n",
            "221 What is/are the dark areas near/in the center of the brain?\n",
            "222 Which ventricles are visible?\n",
            "223 Would you suspect abcess or cancer for this finding?\n",
            "224 What are the dark areas at the top of the picture?\n",
            "225 What is/are the dark space near/in the Top of the image?\n",
            "226 What is the dark space in the body cavity near the top of the image?\n",
            "227 What is/are the dark space near/in the Top of the image?\n",
            "228 What can be typically visualized in this plane?\n",
            "229 In what space/cavity is the abnormal organ located?\n",
            "230 How long does this imaging modality take to complete? (hours?\tminutes?)\n",
            "231 What is/are the hypoattenuated tissue near/in the skin?\n",
            "232 What is/are the hypoattenuated tissue near/in the skin?\n",
            "233 what is the secondary pathology?\n",
            "234 What is/are the secondary pathology ?\n",
            "235 What is the secondary abnormality in this image?\n",
            "236 What is/are the secondary pathology ?\n",
            "237 What is the location of the mass\n",
            "238 Where is/are the mass located?\n",
            "239 where is the mass located?\n",
            "240 Where is/are the mass located?\n",
            "241 What is the primary abnormality in this image?\n",
            "242 What is/are the primary pathology ?\n",
            "243 what is the primary pathology\n",
            "244 What is/are the primary pathology ?\n",
            "245 The pathology is located in which lobes of the brain?\n",
            "246 Where is/are the pathology located?\n",
            "247 which lobes demonstrate pathology\n",
            "248 What is the abnormal lobe?\n",
            "249 What is the likely pathology?\n",
            "250 What is the most likely cause of these abnormalities?\n",
            "251 What is abnormal in this image?\n",
            "252 What is abnormal in this image?\n",
            "253 What organ system is displayed?\n",
            "254 what is the location of the mass?\n",
            "255 Where is/are the mass located?\n",
            "256 Where is the mass?\n",
            "257 Where is/are the mass located?\n",
            "258 What organ system is this?\n",
            "259 what it causing the widening?\n",
            "260 What is the widened mediastinum caused by?\n",
            "261 What is the modality?\n",
            "262 in what system is the pathology?\n",
            "263 What system is this pathology in?\n",
            "264 What plane is demonstrated?\n",
            "265 How would you characterize the lesion?\n",
            "266 How would you describe the lesion?\n",
            "267 What is the characterization of the lesion\n",
            "268 How would you describe the lesion?\n",
            "269 Where is/are the cavitary lesion located?\n",
            "270 Where is/are the cavitary lesion located?\n",
            "271 What is the pathology?\n",
            "272 What is abnormal in this image?\n",
            "273 What pathology is shown?\n",
            "274 What is abnormal in this image?\n",
            "275 What is the lesion's disease origin?\n",
            "276 What disease origin is the lesion(eg, vascular vs. neoplastic)?\n",
            "277 what is the composition of the mass?\n",
            "278 How would you describe the mass composition?\n",
            "279 What is this mass primarily made of?\n",
            "280 How would you describe the mass composition?\n",
            "281 What is the pathology in this image?\n",
            "282 What is/are the pathology near/in the image?\n",
            "283 what pathology is demonstrated?\n",
            "284 What is/are the pathology near/in the image?\n",
            "285 This radiograph contains what foreign body?\n",
            "286 What is/are the foreign body near/in the lung?\n",
            "287 what is the foreign body\n",
            "288 What is/are the foreign body near/in the lung?\n",
            "289 Where is/are the mass located?\n",
            "290 Where is/are the mass located?\n",
            "291 what is the plane?\n",
            "292 What modality is shown?\n",
            "293 Where can omental caking be seen in this image?\n",
            "294 Where is the lesion located?\n",
            "295 In what ventricle is the enhancing intraventricular mass seen?\n",
            "296 What signs of appendicitis are seen in this image?\n",
            "297 How would you describe this lesion?\n",
            "298 What region of the brain shows hyperintensity?\n",
            "299 Which side is the pneumothorax on?\n",
            "300 What is represented by the black parts of the image within the large intestine?\n",
            "301 Which rib is fractured?\n",
            "302 In what plane is this MRI taken?\n",
            "303 What type of imaging modality is seen in this image?\n",
            "304 What organ is seen in the Left posterior portion of this image, to the left of the spinal column?\n",
            "305 What solid organ is seen on the right side of this image?\n",
            "306 What is one organ system seen in this image?\n",
            "307 What part of the body is being imaged?\n",
            "308 What type of imaging modality is this?\n",
            "309 What abnormality can be seen in the greater omentum?\n",
            "310 What type of MRI sequence is this?\n",
            "311 What lobe of the brain is the lesion found in?\n",
            "312 There is a mass found in which organ?\n",
            "313 What is the difference between the left and right costophrenic angles?\n",
            "314 On which side of the brain is the infarction?\n",
            "315 There is a large enhancing mass growing from what organ in this CT scan?\n",
            "316 Which lobe of the brain demonstrates a hyper-intense signal in this T2 weighted MRI image?\n",
            "317 What imaging modality is seen here?\n",
            "318 What vessel is seen just anterior to the spine enhancing with contrast?\n",
            "319 What two large vessels are seen directly anterior to the spinal column?\n",
            "320 Which side of the image is the thoracic mass located on?\n",
            "321 Where is the bleed?\n",
            "322 Where is/are the bleed located?\n",
            "323 What kind of brain bleed is this?\n",
            "324  What is/are the bleed near/in the brain? \n",
            "325 Where is the enhancement in left rectus muscles?\n",
            "326 Where is/are the enhanced muscles on the left located?\n",
            "327 Which rectus muscles are enhanced on the left?\n",
            "328 Where is/are the enhanced muscles on the left located?\n",
            "329 How do you tell which side is R vs L?\n",
            "330 How can you tell contrast has been give orally?\n",
            "331 Where is/are the diaphragm elevation located?\n",
            "332 Where is/are the diaphragm elevation located?\n",
            "333 What is the connection of the left renal vein?\n",
            "334 What is the drainage of the left renal vein?\n",
            "335 What type of image is this?\n",
            "336 What side are the infarcts located?\n",
            "337 Where is/are the infarcts located?\n",
            "338 Where are the infarcts seen?\n",
            "339 Where is/are the infarcts located?\n",
            "340 How would you describe the lesions?\n",
            "341 How would you describe the lesions?\n",
            "342 What is one adjective to describe the lesion(s)?\n",
            "343 How would you describe the lesions?\n",
            "344 Where is/are the left side located?\n",
            "345 What kind of image is this?\n",
            "346 What modality is this?\n",
            "347 Where is the enhancement in right rectus muscles?\n",
            "348 Where is/are the enhanced muscles on the right located?\n",
            "349 Which Rectus muscles are enhanced on the right?\n",
            "350 Where is/are the enhanced muscles on the right located?\n",
            "351 What is the location of the mass?\n",
            "352 Where is/are the mass located?\n",
            "353 Where is the mass located?\n",
            "354 Where is/are the mass located?\n",
            "355 The air fluid level is in which location?\n",
            "356 Where is/are the air fluid level located?\n",
            "357 Where is there an air fluid level?\n",
            "358 Where is/are the air fluid level located?\n",
            "359 Where is/are the pleural effusion located?\n",
            "360 Where is/are the pleural effusion located?\n",
            "361 What do the hyperdensities represent?\n",
            "362 What are the hyperdensities indicative of?\n",
            "363 What could cause this finding?\n",
            "364 What type of image modality is this?\n",
            "365 Which image modality is this?\n",
            "366 How is the image oriented?\n",
            "367 What plane is this X-ray in?\n",
            "368 What side of the abdomen is the aorta on?\n",
            "369 Where is/are the aorta located?\n",
            "370 Where is the aorta located relative to the midline?\n",
            "371 Where is/are the aorta located?\n",
            "372 Which side is abnormal?\n",
            "373 Where is/are the defect located?\n",
            "374 Which lung has a defect?\n",
            "375 Where is/are the defect located?\n",
            "376 What area is abnormal?\n",
            "377 Where is/are the abnormality located?\n",
            "378 Where is/are the abnormality located?\n",
            "379 Where is/are the abnormality located?\n",
            "380 Where is/are the acute infarcts located?\n",
            "381 Where is/are the acute infarcts located?\n",
            "382 In which area of the brain are the infarcts found?\n",
            "383 Where is/are the infarcts located?\n",
            "384 Where are the infarcts located?\n",
            "385 Where is/are the infarcts located?\n",
            "386 What organ systems can be evaluated with this image?\n",
            "387 What side is the lesion located on?\n",
            "388 Where is the lesion?\n",
            "389 how can you tell this is a T2 weighted image?\n",
            "390 What is the best MRI weighting for ring enhancing lesions?\n",
            "391 What is seen in the occipital lobe?\n",
            "392 What is/are the findings near/in the occipital lobe?\n",
            "393 What is abnormal about the occipital lobe?\n",
            "394 What is/are the findings near/in the occipital lobe?\n",
            "395 What plane is this image in?\n",
            "396 Which plane is the image shown in?\n",
            "397 Where are the lesions located?\n",
            "398 Where is/are the lesions located?\n",
            "399 Where are the lesions located?\n",
            "400 Where is/are the lesions located?\n",
            "401 Where is the lesion located?\n",
            "402 Where is/are the lesion located?\n",
            "403 Which lobe is the lesion in?\n",
            "404 Where is/are the lesion located?\n",
            "405 What type of image is this?\n",
            "406 What image modality is this?\n",
            "407 What are the hyperdense findings in the mediastinum?\n",
            "408 What is/are the hyperdensities near/in the mediastinum?\n",
            "409 What are seen as hyperdense in the mediastinum of this image?\n",
            "410 What is/are the hyperdensities near/in the mediastinum?\n",
            "411 What is the abnormality seen above the heart on the patient's right side?\n",
            "412 What is the abnormality near the heart on the right side?\n",
            "413 what is the bump seen above the heart on the patient's right side?\n",
            "414 What is the abnormality near the heart on the right side?\n",
            "415 Brain structure shown in this image?\n",
            "416 What is/are the brain structure  near/in the image shown ?\n",
            "417 What part of the brain is seen in this image?\n",
            "418 What is/are the brain structure  near/in the image shown ?\n",
            "419 What lobe of the brain is the lesion located in?\n",
            "420 Where is/are the brain lesion  located?\n",
            "421 Where is the brain lesion located?\n",
            "422 Where is/are the brain lesion  located?\n",
            "423 In what plane is the above taken?\n",
            "424 Is this image taken with or without contrast?\n",
            "425 Was contrast used to take this image?\n",
            "426 Where is/are the lesion  located?\n",
            "427 Where is/are the lesion  located?\n",
            "428 What is the size of the mass in the right upper quadrant?\n",
            "429 What is the size of the mass in the right upper quadrant?\n",
            "430 What is the location of the mass?\n",
            "431 Where is/are the mass located?\n",
            "432 Where is the mass located?\n",
            "433 Where is/are the mass located?\n",
            "434 MRI imaging modality used for this image?\n",
            "435 What type of MRI is used to acquire this image?\n",
            "436 The patient's left contains a bright round organ, what is it?\n",
            "437 What is/are the the bright round organ near/in the patient's left ?\n",
            "438 What is the bright round organ seen on the patient's left?\n",
            "439 What is/are the the bright round organ near/in the patient's left ?\n",
            "440 What organ system is shown in the above image?\n",
            "441 What is the organ system in this image?\n",
            "442 What is/are the sturctures near/in the the hemorrhage?\n",
            "443 What is/are the sturctures near/in the the hemorrhage?\n",
            "444 What cranial nerves may be affected by the lesion seen in the above image?\n",
            "445 What are the abnormal cranial nerves?\n",
            "446 Which cranial nerves are possibly affected by this lesion?\n",
            "447 What are the abnormal cranial nerves?\n",
            "448 What type of MRI is this?\n",
            "449 What is the modality of this MRI?\n",
            "450 Imaging modality used to take this image?\n",
            "451 What imaging modality is used to acquire this picture?\n",
            "452 What is/are the major artery affected  near/in the this lesion?\n",
            "453 What is/are the major artery affected  near/in the this lesion?\n",
            "454 What MRI imaging sequence is shown above?\n",
            "455 What type of MRI is shown in the above image?\n",
            "456 Where is/are the brain lesions  located?\n",
            "457 Where is/are the brain lesions  located?\n",
            "458 What ventricle is the lesion compressing?\n",
            "459 What is/are the ventricle compressed by the lesion ?\n",
            "460 Which ventricle is compressed by the lesion?\n",
            "461 What is/are the ventricle compressed by the lesion ?\n",
            "462 Where do you see a large hematoma?\n",
            "463 Where is/are the large hematoma located?\n",
            "464 Where is the large hematoma located?\n",
            "465 Where is/are the large hematoma located?\n",
            "466 What organ system is shown in the above image?\n",
            "467 Which organ system is shown in the image?\n",
            "468 MRI imaging modality used?\n",
            "469 What type of MRI is the above image?\n",
            "470 Where is/are the the brain lesion located?\n",
            "471 Where is/are the the brain lesion located?\n",
            "472 In what plane is the image above captured?\n",
            "473 What organ contains multiple lesions in the above image?\n",
            "474 What is the organ that contains multiple lesions?\n",
            "475 Which organ has multiple lesions?\n",
            "476 What is the organ that contains multiple lesions?\n",
            "477 How was this image taken?\n",
            "478 What imaging modality is seen?\n",
            "479 What organ system is being imaged?\n",
            "480 How was this MRI taken?\n",
            "481 What type of MRI is this?\n",
            "482 In which lobes do you see a higher density of masses?\n",
            "483 Where is the high density of masses located?\n",
            "484 Which lobes of the lung contain a higher density of masses?\n",
            "485 Where is the high density of masses located?\n",
            "486 In what plane is this image taken?\n",
            "487 What imaging modality is used?\n",
            "488 What is the condition in which the ventricles are enlarged as seen in this image?\n",
            "489 What is the condition in which the ventricles are enlarged as seen in this image?\n",
            "490 Where is/are the abnormal mass  located?\n",
            "491 Where is/are the abnormal mass  located?\n",
            "492 The azygoesophageal recess is deviated in which direction?\n",
            "493 Where is the azygoesophageal recess deviation located?\n",
            "494 Which direction is the azygoesophageal recess deviated?\n",
            "495 Where is the azygoesophageal recess deviation located?\n",
            "496 In which side is the hemidiaphragm elevated?\n",
            "497 Where is the diaphragm elevation located?\n",
            "498 Which diaphragm is elevated?\n",
            "499 Where is the diaphragm elevation located?\n",
            "500 Where is the abnormality located?\n",
            "501 What is abnormal  in this image?\n",
            "502 Where is the lesion located?\n",
            "503 Where is/are the lesion located?\n",
            "504 Where is the abnormality in this image?\n",
            "505 Where is/are the lesion located?\n",
            "506 What is/are the hypodense mass near/in the liver?\n",
            "507 What are the hyperdensities on the periphery of the left side\n",
            "508 What is/are the hyperdensities near/in the left side?\n",
            "509 What are the foci of hyperdensities on the left?\n",
            "510 What is/are the hyperdensities near/in the left side?\n",
            "511 Where is the abnormality in this image?\n",
            "512 Where is/are the abnormality located?\n",
            "513 Where is the mass located?\n",
            "514 Where is/are the abnormality located?\n",
            "515 Why are the chostrochondral junctions not seen on this film?\n",
            "516 How can you tell there is no pneumothorax present?\n",
            "517 Why is the right lung most common location for aspirations?\n",
            "518 What radiographic sign is seen in the intestines\n",
            "519 What is the finding in patient's lumen of the intestine?\n",
            "520 What is the finding in lumen of the intestine called?\n",
            "521 What is the finding in patient's lumen of the intestine?\n",
            "522 What are the multiple round hyperdensities located immediately inferior to the musculature?\n",
            "523 What is/are the circular hyperdensities near/in the anterior?\n",
            "524 What are the anterior circular hyperdensities?\n",
            "525 What is/are the circular hyperdensities near/in the anterior?\n",
            "526 What is the air under the left hemidiaphragm?\n",
            "527 What is the air under the patient's left hemidiaphragm?\n",
            "528 What is hyperdensity under the diaphragm on the left?\n",
            "529 What is the air under the patient's left hemidiaphragm?\n",
            "530 Where is the infarct?\n",
            "531 Where is the infarct located?\n",
            "532 Which vessel is infarcted in this image?\n",
            "533 Where is the infarct located?\n",
            "534 What signs of cerebral edema are present?\n",
            "535 What are the signs of cerebral edema?\n",
            "536 Which signs of edema are visualized here?\n",
            "537 What are the signs of cerebral edema?\n",
            "538 What area of cerebrum is visible?\n",
            "539 What is the area in the patient's cerebrum?\n",
            "540 Which lobe of the cerebrum is visible?\n",
            "541 What is the lobe in the patient's cerebrum?\n",
            "542 Which vertebral level is this image?\n",
            "543 What is the level in the patient's spine?\n",
            "544 What level of the spine is most likely seen here?\n",
            "545 What is the level in the patient's spine?\n",
            "546 What else do you need in order to localize lesions on a CXR?\n",
            "547 What are the black areas?\n",
            "548 What are the least dense regions?\n",
            "549 Where is the lesion located?\n",
            "550 Where is the lesion located?\n",
            "551 Which lobe is the lesion in?\n",
            "552 Where is the lesion located?\n",
            "553 Where is the lesion located?\n",
            "554 Where is/are the lesion located?\n",
            "555 Where is the cortical lesion?\n",
            "556 Where is/are the lesion located?\n",
            "557 What does the black on an x ray indicate?\n",
            "558 Where is the abnormality in this image?\n",
            "559 Where is/are the abnormality located?\n",
            "560 Where is the lesion located?\n",
            "561 Where is/are the lesion  located?\n",
            "562 What are the skeletal joints in this image?\n",
            "563 What material is the peripheral hypodensity?\n",
            "564 What is/are the hypodensity near/in the periphery of the image?\n",
            "565 What is the the dark gray surrounding the periphery of the image?\n",
            "566 What is/are the hypodensity near/in the periphery of the image?\n",
            "567 Where is the lesion located?\n",
            "568 What is/are the hyperdense opacities near/in the periphery?\n",
            "569 What is/are the hyperdense opacities near/in the periphery?\n",
            "570 If the mass compressed the left renal vein in a male\twhat else might you expect to see?\n",
            "571 What does the small white lesions in the aorta mean\n",
            "572 What is/are the small white lesions near/in the aorta?\n",
            "573 What do the hyperdensities in the aorta suggest?\n",
            "574 What is/are the small white lesions near/in the aorta?\n",
            "575 What is the shape of the mass?\n",
            "576 How would you describe the mass?\n",
            "577 What is the form of the mass?\n",
            "578 How would you describe the mass?\n",
            "579 Describe the borders of the lesion.\n",
            "580 How would you describe the borders of the lesion?\n",
            "581 How are the borders of the lesion?\n",
            "582 How would you describe the borders of the lesion?\n",
            "583 What is the location of the mass?\n",
            "584 Where is/are the mass located?\n",
            "585 Where is the mass?\n",
            "586 Where is/are the mass located?\n",
            "587 Can you name the organ captured by this image?\n",
            "588 How would you describe the lesion?\n",
            "589 How would you describe the lesion?\n",
            "590 What is this type of lesion called?\n",
            "591 What is the lesion?\n",
            "592 What is the location of the abnormality?\n",
            "593 Where is/are the nodules located?\n",
            "594 Where is the abnormality?\n",
            "595 Where is/are the nodules located?\n",
            "596 What is the location of the abnormality?\n",
            "597 Where is/are the abnormality located?\n",
            "598 Where is the abnormality?\n",
            "599 Where is/are the abnormality located?\n",
            "600 The bottom of the image indicates what area of the brain?\n",
            "601 What injury does this brain image suggest?\n",
            "602 What is evinced by this brain image?\n",
            "603 What is the location of the lesion?\n",
            "604 Where is/are the lesion located?\n",
            "605 Where is the lesion?\n",
            "606 Where is/are the lesion located?\n",
            "607 What is abnormal with the ventricles?\n",
            "608 What is abnormal with the ventricles?\n",
            "609 How would you describe the location of the lesion?\n",
            "610 Where is/are the lesion located?\n",
            "611 Where is the lesion located?\n",
            "612 Where is/are the lesion located?\n",
            "613 Where is the nodule?\n",
            "614 What is the abnormality?\n",
            "615 How was this image taken?\n",
            "616 What is the condition of the patient\n",
            "617 What is abnormal in this image?\n",
            "618 What abnormality is seen?\n",
            "619 What is abnormal in this image?\n",
            "620 What is the location of the mass?\n",
            "621 Where is/are the mass located?\n",
            "622 Where is the mass?\n",
            "623 Where is/are the mass located?\n",
            "624 Where are the lesions?\n",
            "625 Where is/are the lesions located?\n",
            "626 What type of image is this?\n",
            "627 What is the location of the abnormality?\n",
            "628 Where is/are the abnormality located?\n",
            "629 Where is the abnormal finding?\n",
            "630 Where is/are the abnormality located?\n",
            "631 What plane is seen?\n",
            "632 How would you describe the mass?\n",
            "633 How would you describe the mass?\n",
            "634 What are the characteristics of the mass?\n",
            "635 How would you describe the mass?\n",
            "636 Which plane is this image taken in?\n",
            "637 What is the radiological description of the mass?\n",
            "638 What is the intensity of the mass?\n",
            "639 What allows for the bright areas seen in this image?\n",
            "640 What is abnormal in this image?\n",
            "641 What is abnormal in this image?\n",
            "642 How can the distribution in this image be described?\n",
            "643 How would you describe the distributions?\n",
            "644 What type of distributions is seen on this image?\n",
            "645 How would you describe the distributions?\n",
            "646 What is the location of the mass?\n",
            "647 Where is/are the mass located?\n",
            "648 Where is the mass?\n",
            "649 Where is/are the mass located?\n",
            "650 What do the two bright dots represent?\n",
            "651 What are the two bright dots?\n",
            "652 What are the two hyperlucent inferior dots?\n",
            "653 What are the two dots?\n",
            "654 What are the locations of the hyperintensities?\n",
            "655 Where is/are the hyperintensities  located?\n",
            "656 Where are the hyperintensities located?\n",
            "657 Where is/are the hyperintensities  located?\n",
            "658 What laterality is this film?\n",
            "659 What artery is the embolus from?\n",
            "660 Where is the embolus located?\n",
            "661 Where is/are the embolus  located?\n",
            "662 The mass is located in what region?\n",
            "663 Where is/are the mass located?\n",
            "664 Where is the mass located?\n",
            "665 Where is/are the mass located?\n",
            "666 The imaging modality is...?\n",
            "667 What is the image modality?\n",
            "668 What image modality is this?\n",
            "669 What imaging modality was used\n",
            "670 What are the affected blood vessels?\n",
            "671 What are the affected blood vessels?\n",
            "672 What imaging modality was used?\n",
            "673 What type of image is this?\n",
            "674 What organs is affected in this image?\n",
            "675 What is involved in this image?\n",
            "676 Where is the pathology located?\n",
            "677 Where is/are the infarcts located?\n",
            "678 Which region of the brain is impacted?\n",
            "679 Where is/are the infarcts located?\n",
            "680 What is behind the liver?\n",
            "681 What is behind the patient's liver?\n",
            "682 What finding is associated with liver?\n",
            "683 What is the finding near the patient's liver?\n",
            "684 What type of image is this?\n",
            "685 what imaging modality was used\n",
            "686 What imaging plane is depicted here?\n",
            "687 What is the plane?\n",
            "688 What is the location of the mass?\n",
            "689 Where is/are the mass located?\n",
            "690 Where is the mass located?\n",
            "691 Where is/are the mass located?\n",
            "692 How was this image taken?\n",
            "693 What do the hyperintensities likely represent?\n",
            "694 What are the hyperintensities in the image?\n",
            "695 What are the hyperintensities signaling?\n",
            "696 What are the hyperintensities in the image?\n",
            "697 What is the structure in the image?\n",
            "698 What is the pathology in the image?\n",
            "699 What is the mass in the image?\n",
            "700 How was this image taken?\n",
            "701 What is the lighter substance around the gallbladder\n",
            "702 What is lighter substance near the patient's gallbladder?\n",
            "703 What type of imaging was used?\n",
            "704 Which image modality is this?\n",
            "705 What is the plane?\n",
            "706 What plane was used?\n",
            "707 What is wrong with the pancreas?\n",
            "708 What is wrong with the pancreas?\n",
            "709 What pathology does the pancreas deominstrate?\n",
            "710 What is pathological about the pancreas?\n",
            "711 What organ exhibits pathology\n",
            "712 What is the pathological organ?\n",
            "713 Which part of the bowel is involved by the mass?\n",
            "714 What is involved part of the bowel?\n",
            "715 What plane are we in?\n",
            "716 What is the modality used?\n",
            "717 What imaging method was used?\n",
            "718 What is at the base of the right lung?\n",
            "719 What is/are the pathology near/in the base of the lungs?\n",
            "720 What pathology is shown at the lung bases?\n",
            "721 What is/are the pathology near/in the base of the lungs?\n",
            "722 What image modality is this?\n",
            "723 The abscess is located in what structure?\n",
            "724 Where is/are the abscess located?\n",
            "725 Where is the abscess located?\n",
            "726 Where is/are the abscess located?\n",
            "727 Where are the hyperlucencies located?\n",
            "728 Where is/are the hyperlucencies  located?\n",
            "729 Which areas are lighting up?\n",
            "730 Where is/are the hyperlucencies  located?\n",
            "731 What organ is involved?\n",
            "732 What is the involved organ?\n",
            "733 Which organ is affected?\n",
            "734 What is the affected organ?\n",
            "735 Where are the kidneys located?\n",
            "736 What imaging modality was used?\n",
            "737 What type of image modality is this?\n",
            "738 What organ is enlarged?\n",
            "739 What is the enlarged organ?\n",
            "740 Which organ is abnormally large?\n",
            "741 What is the enlarged organ?\n",
            "742 What does the enhancing periphery of the mass represent?\n",
            "743 What is the enhancing periphery of the mass?\n",
            "744 What is the outer rim of the mass?\n",
            "745 What is the outer rim of the mass?\n",
            "746 Blunting of the costophrenic angles indicate what condition?\n",
            "747 What does the blunting of the costophrenic angles indicate?\n",
            "748 What are the two bright images on either side\n",
            "749 Which plane is the image in?\n",
            "750 What imaging modality was used?\n",
            "751 Where is/are the lesion located?\n",
            "752 What part of the posterior brain contains the lesions?\n",
            "753 Where is/are the posterior brain lesions  located?\n",
            "754 Which lung are the nodules located in?\n",
            "755 Where is/are the nodules located?\n",
            "756 What is the signal intensity of the lesion?\n",
            "757 What is/are the signal intensity of the lesion?\n",
            "758 In what lobe of the brain is the lesion located?\n",
            "759 Where is/are the lesion located?\n",
            "760 Where is the spleen located?\n",
            "761 Where is/are the spleen located?\n",
            "762 How many gallstones are identified?\n",
            "763 How many gallstones are present/visualized in the image?\n",
            "764 What would be the most probably diagnosis for this patient?\n",
            "765 Why is the left hemithorax more lucent?\n",
            "766 How big is the mass?\n",
            "767 How big is/are the mass? -open\n",
            "768 What is the term for the sign in this image?\n",
            "769 What is/are the the term for the sign  near/in the image?\n",
            "770 Which side is the diaphragm more depressed?\n",
            "771 How large is the mass?\n",
            "772 How large is/are the mass? -open\n",
            "773 What is/are the the structure sitting medially  near/in the hyperattenuating ovoid mass?\n",
            "774 Where is the abnormality located?\n",
            "775 Where is/are the free air located?\n",
            "776 What is the size of the lesion\n",
            "777 What is the size of the lesion?\n",
            "778 What part of the body does this radiograph show?\n",
            "779 The increased signal is a result of what material?\n",
            "780 What does the abnormality in this image represent?\n",
            "781 What is abnormality in this image?\n",
            "782 What structures is identified in the middle of this image?\n",
            "783 What is/are the structure near/in the middle of the brain?\n",
            "784 What type of image modality is used?\n",
            "785 Is there an acute bleed present?\n",
            "786 What is/are the hyperintense structure near/in the right side of the chest?\n",
            "787 What type of imaging is this?\n",
            "788 How many kidneys are visualizable in this image?\n",
            "789 How many kidneys are present/visualized in the image?\n",
            "790 Is the trachea midline?\n",
            "791 Where is/are the trachea located?\n",
            "792 What do the masses contain?\n",
            "793 What organ is superimposed on the lung fields?\n",
            "794 Which side is the abnormality on?\n",
            "795 Which lung has diffuse opacification?\n",
            "796 Where is/are the opacificaions located?\n",
            "797 What modality is used in this image?\n",
            "798 What does the abnormal contour of the left hilum suggest in terms of pathology?\n",
            "799 The cystic findings in the bilateral apices are consistent with what pathology?\n",
            "800 How would you describe the sulci in this image?\n",
            "801 How would you describe the sulci ?\n",
            "802 What does the black area signify?\n",
            "803 What is/are the color of the lungs?\n",
            "804 What side of the brain is the lesion on?\n",
            "805 Where is/are the lesion located?\n",
            "806 What is the gender of this patient?\n",
            "807 Where is/are the mass located?\n",
            "808 How many ring enhancing lesions can be found in this image?\n",
            "809 How many ring enhancing lesions are present/visualized in the image?\n",
            "810 Which orientation is the image acquired?\n",
            "811 What imaging modality is used?\n",
            "812 What is the hyperdensity in the image?\n",
            "813 What is/are the hyperdensity near/in the right?\n",
            "814 What is the size of the pancreatic mass?\n",
            "815 Which side was affected?\n",
            "816 In what lobes are the lesions located?\n",
            "817 Where is/are the lesions located?\n",
            "818 What is on the differential?\n",
            "819 Where is/are the hyperintense areas located?\n",
            "820 Where is/are the infarcts located?\n",
            "821 What is the image plane?\n",
            "822 In what plane is the above image?\n",
            "823 What is abnormal about the image?\n",
            "824 What is abnormal in this image?\n",
            "825 What imaging modality is used?\n",
            "826 What plane is the image in?\n",
            "827 Is there contrast in the bowels?\n",
            "828 How would you describe the R vertebral artery shape?\n",
            "829 How would you describe the R vertebral artery?\n",
            "830 Where is/are the hyperinflated lungs located?\n",
            "831 How many masses are there?\n",
            "832 How many masses are present/visualized in the image?\n",
            "833 What type of MR image modality is seen?\n",
            "834 How many kidneys are in this image?\n",
            "835 How many kidneys are present/visualized in the image?\n",
            "836 In what plane is the CT scan?\n",
            "837 The enhancing soft tissue mass and fluid seen in the left upper quadrant is consistent with what pathology?\n",
            "838 What does this represent?\n",
            "839 What is abnormal in this image?\n",
            "840 Which organ contains the air-fluid level?\n",
            "841 How many masses are there?\n",
            "842 How many masses are present/visualized in the image?\n",
            "843 What type of thrombosis is shown?\n",
            "844 Where is the liver?\n",
            "845 Is there contrast present in the bowel?\n",
            "846 How many masses are there?\n",
            "847 How many masses are present/visualized in the image?\n",
            "848 What type of contrast agent is used in this MRI?\n",
            "849 Where is/are the opacity located?\n",
            "850 Is the trachea midline?\n",
            "851 What imaging modality was used?\n",
            "852 What is the size of the mass?\n",
            "853 What plane is this image?\n",
            "854 What is the intensity signal of CSF?\n",
            "855 What is the signal intensity of the CSF?\n",
            "856 What modality is this image taken?\n",
            "857 What imaging modality is seen here?\n",
            "858 What plane of section is the brain taken in?\n",
            "859 What cut of the brain is this image taken?\n",
            "860 How is the CSF enhancement characterized?\n",
            "861 What plane was this chest film taken in?\n",
            "862 What is the section level of this image?\n",
            "863 Where is this slice located in the human body?\n",
            "864 What type of radiograph is this?\n",
            "865 What structure is seen in the left hemidiaphragmatic area?\n",
            "866 What structure is superimposed on the left hemidiaphragm?\n",
            "867 Where is the gastric bubble located?\n",
            "868 Where is the gastric bubble located?\n",
            "869 Where is the gastric bubble placed?\n",
            "870 Where is the gastric bubble located?\n",
            "871 What was this image taken with?\n",
            "872 What is the location of the brain mass?\n",
            "873 Where is the mass located?\n",
            "874 Where is the mass located?\n",
            "875 Where is the mass located?\n",
            "876 Where are the three circular opacities located?\n",
            "877 Where are the three circular opacities located?\n",
            "878 What organ is this image of?\n",
            "879 What brain territory is the hemorrhage located?\n",
            "880 Where is the hemorrhage located?\n",
            "881 Which fissure is the hemorrhage located?\n",
            "882 Where is the hemorrhage located?\n",
            "883 What vein is the central venous catheter located in the patient?\n",
            "884 Where is/are the central venous catheter located?\n",
            "885 Where is the central venous catheter placed?\n",
            "886 Where is/are the central venous catheter located?\n",
            "887 What plane of the abdomen is this image?\n",
            "888 What form of contrast did the patient receive?\n",
            "889 What types of contrast did this patient have?\n",
            "890 What cut of the body is this image?\n",
            "891 How was this film taken?\n",
            "892 What parts of the lung fields contain the most prominent ground glass opacities?\n",
            "893 What is the artifact in the image?\n",
            "894 What is the artifact in the image?\n",
            "895 What is located in the sigmoid colon?\n",
            "896 What is the findings located in the sigmoid colon?\n",
            "897 What are the findings in the sigmoid colon?\n",
            "898 What is the findings located in the sigmoid colon?\n",
            "899 What brain region demonstrates edema?\n",
            "900 What is the edematous area located in the brain?\n",
            "901 What area of the brain is edematous?\n",
            "902 What is the edematous area located in the brain?\n",
            "903 What type of plane is this image of?\n",
            "904 What plane was this image taken in?\n",
            "905 What is the muscle adjacent to the vertebrae?\n",
            "906 What is the muscle near the vertebrae?\n",
            "907 What muscle surrounds the vertebrae?\n",
            "908 What is the muscle near the vertebrae?\n",
            "909 What section is this image?\n",
            "910 What plane is this image taken?\n",
            "911 What category is the hemmorhage?\n",
            "912 What is the hemorrhage?\n",
            "913 What type of hemorrhage is shown?\n",
            "914 What is the hemorrhage?\n",
            "915 What modality is this image taken?\n",
            "916 What is the MRI modality depicted in this image?\n",
            "917 What contrast was administered to this patient?\n",
            "918 What types of contrast does this patient have?\n",
            "919 Which half the cerebellum is the largest mass located?\n",
            "920 Where is the largest mass located in the cerebellum?\n",
            "921 Which side of the cerebellum contains the largest mass?\n",
            "922 Where is the largest mass located in the cerebellum?\n",
            "923 What organ is this image of?\n",
            "924 What type of modality was this image taken?\n",
            "925 What is the MR weighting in this image?\n",
            "926 Where are the densities identified in the patient?\n",
            "927 Where are the densities?\n",
            "928 What are the hyperattenuations located around the patient?\n",
            "929 What are the hyperattenuations located around the patient?\n",
            "930 What are the hyperintensities surrounding the aorta?\n",
            "931 What are the hyperintensities surrounding the aorta?\n",
            "932 What are the internal morphologic features of this mass?\n",
            "933 How would you describe the internal morphologic features of this mass?\n",
            "934 What part of the CNS is this image showing?\n",
            "935 The lesion is located where in this image?\n",
            "936 Where are the lesions located?\n",
            "937 Where is the lesion located in this image?\n",
            "938 Where are the lesions located?\n",
            "939 In which vessel is calcification present?\n",
            "940 Where are the vessel calcifications?\n",
            "941 The calcification is located in what vessel?\n",
            "942 Where are the vessel calcifications?\n",
            "943 What condition is found in the above image?\n",
            "944 What is abnormal in this image?\n",
            "945 What pathology is seen in this image?\n",
            "946 What is abnormal in this image?\n",
            "947 In what organ do you see swelling?\n",
            "948 What is the edematous organ in this image?\n",
            "949 What organ is edematous in this image?\n",
            "950 What is the edematous organ in this image?\n",
            "951 What is abnormal in this image?\n",
            "952 What is abnormal in this image?\n",
            "953 This image is suspicious of what cancerous pathology?\n",
            "954 What cancer does this patient have?\n",
            "955 The infarcts seen are most likely what type?\n",
            "956 How would you describe the infarcts?\n",
            "957 What types of infarcts are these most likely?\n",
            "958 How would you describe the infarcts?\n",
            "959 How was this film taken?\n",
            "960 On what side of the body is there pathology, and what is it?\n",
            "961 What is the pathology?\n",
            "962 What is the pathology in the image?\n",
            "963 What pathology is seen int his image? \n",
            "964 What is the pathology in the image?\n",
            "965 What pathology is seen int his image? What side?\n",
            "966 On what side of the body is there pathology?\n",
            "967 Where is the pathology?\n",
            "968 What side is the pathology?\n",
            "969 Where is the pathology?\n",
            "970 What is incidentally found?\n",
            "971 What is incidentally found?\n",
            "972 What organ system is highlighted by contrast?\n",
            "973 Describe the intensity of the abnormality seen in this image? (central vs. surrounding)\n",
            "974 How would you describe the central and surrounding intesities of the abnormality seen?\n",
            "975 The contrast is enhancing what inside the lesion?\n",
            "976 What is the enhancement in the lesion?\n",
            "977 What is enhanced by contrast in the lesion?\n",
            "978 What is the enhancement in the lesion?\n",
            "979 Describe the density of this lesion?\n",
            "980 What is the density of the lesion?\n",
            "981 Describe the size of this lesion?\n",
            "982 What is the size of the lesion?\n",
            "983 Describe the size and density of this lesion?\n",
            "984 What is the size and density of the lesion?\n",
            "985 What vascular problem is seen above?\n",
            "986 What vein is occluded?\n",
            "987 What is the occluded vein?\n",
            "988 Why are there no sulci seen in this image?\n",
            "989 Why do you not see sulci in the image?\n",
            "990 What plane is this image in?\n",
            "991 In what plane was this image taken?\n",
            "992 What plane was this image taken in?\n",
            "993 The image has an abnormality located where?\n",
            "994 Where is the abnormality located?\n",
            "995 Where is the abnormality located in this image?\n",
            "996 Where is the abnormality located?\n",
            "997 What is the pathology seen in the spleen?\n",
            "998 What structure in the left basal ganglia is spared?\n",
            "999 What is spared in the left basal ganglia?\n",
            "1000 Pathology seen in this image?\n",
            "1001 What is pathological in this image?\n",
            "1002 What is the condition seen in this image?\n",
            "1003 What is pathological in this image?\n",
            "1004 Where is/are the obstruction located?\n",
            "1005 Where is/are the obstruction located?\n",
            "1006 Free air is seen where in this image?\n",
            "1007 Where is/are the free air located?\n",
            "1008 Where is the free-air seen in this image?\n",
            "1009 Where is/are the free air located?\n",
            "1010 The infarction is likely caused by what vessel?\n",
            "1011 What vessel is likely the cause of this infarction?\n",
            "1012 What would you call the lesions seen?\n",
            "1013 What are the lesions?\n",
            "1014 What is the name of the lesions seen in this image?\n",
            "1015 What are the lesions?\n",
            "1016 There is mesenteric lymphadenopathy present, what additional region is seeded?\n",
            "1017 We see mesenteric lymphadenopathy in the above image, where else is there cancer?\n",
            "1018 What is the vascular distribution of these infarcts?\n",
            "1019 Where is/are the infarcts located?\n",
            "1020 Where are the infarcts located?\n",
            "1021 Where is/are the infarcts located?\n",
            "1022 The pathology seen in this image is typical of what disease?\n",
            "1023 What disease does the pathology suggest?\n",
            "1024 In what parts of the brain are the lesions located?\n",
            "1025 Where are the lesions located?\n",
            "1026 Where do you see the lesions?\n",
            "1027 Where are the lesions located?\n",
            "1028 Where is the abnormality located?\n",
            "1029 Where is/are the abnormality located?\n",
            "1030 Where is the pathology located?\n",
            "1031 Where is/are the abnormality located?\n",
            "1032 The image shows what abnormality?\n",
            "1033 What is abnormal in this image?\n",
            "1034 What is abnormal in this image?\n",
            "1035 What is abnormal in this image?\n",
            "1036 This image is concerning for what lung pathology?\n",
            "1037 What lung pathology is this image concerning for?\n",
            "1038 The soft-tissue density seen in this image contains what?\n",
            "1039 What is/are the filling near/in the soft-tissue density?\n",
            "1040 What is filling the soft-tissue density seen in this image?\n",
            "1041 What is/are the filling near/in the soft-tissue density?\n",
            "1042 From what do you see stranding?\n",
            "1043 What is the stranding in the image?\n",
            "1044 What is stranding in this image?\n",
            "1045 What is the stranding in the image?\n",
            "1046 The image above shows an abnormality where?\n",
            "1047 Where is/are the abnormality located?\n",
            "1048 Where is the abnormality in this image?\n",
            "1049 Where is/are the abnormality located?\n",
            "1050 What is happening to the right heart border?\n",
            "1051 How would you describe the R heart??\n",
            "1052 How would you describe the R heart border?\n",
            "1053 How would you describe the R heart??\n",
            "1054 What is the small mass near the left kidney?\n",
            "1055 What is located near the Left kidney\n",
            "1056 What does the brighter outer ring of the lesion represent?\n",
            "1057 What is indicated by the bright ring around the lesion?\n",
            "1058 Where in relation to the mass is the left kidney located in this image?\n",
            "1059 Where is the mass located in relation to the left kidney?\n",
            "1060 On which side is air under the diaphragm?\n",
            "1061 What other organs are present?\n",
            "1062 Which lung are more markings present in?\n",
            "1063 Where is/are the most lung markings located?\n",
            "1064 Where are the most lung markings?\n",
            "1065 Where is/are the most lung markings located?\n",
            "1066 what test or procedure might reveal the diagnosis?\n",
            "1067 What can be done to get to a diagnosis?\n",
            "1068 What is your differential diagnoses?\n",
            "1069 What are the possible diagnoses?\n",
            "1070 Which is more likely? Cancer or hemorrhage?\n",
            "1071 Is this cancer or hemorrhage?\n",
            "1072 What is the most likely explanation for a enlarged kidney in this image?\n",
            "1073 Why is the right kidney enlarged?\n",
            "1074 what is the alternate name for lens-shaped\"\"\n",
            "1075 What term is synonymous with lens-shaped?\n",
            "1076 What are the hypoattenuated round structures surrounding the veterbral column?\n",
            "1077 What is/are the hypointense structures near/in the vertebral column?\n",
            "1078 What are the structures near the vertebral column?\n",
            "1079 What is/are the hypointense structures near/in the vertebral column?\n",
            "1080 What is the most likely diagnosis?\n",
            "1081 What is going on with this patient?\n",
            "1082 Do you favor a viral process or parasitic process or other?\n",
            "1083 Is this a viral or parasitic process?\n",
            "1084 How do you determine cardiomegaly?\n",
            "1085 How do you determine if the heart is enlarged?\n",
            "1086 the internal gas and enhancing rim suggests what type of lesion?\n",
            "1087 What type of hepatic lesion has internal gas and enhancing rim?\n",
            "1088 What does tram-track\"-ing indictate?\"\n",
            "1089 What is meant by tram-track?\n",
            "1090 How can you tell if contrast has been utilized?\n",
            "1091 What are the signs of contrast being used?\n",
            "1092 The dark space in the central portion of the image represents what structure(s)?\n",
            "1093 What is/are the Dark space near/in the center?\n",
            "1094 What do the dark spaces in the center show?\n",
            "1095 What is/are the Dark space near/in the center?\n",
            "1096 What indicates a pleural effusion?\n",
            "1097 What is a pleural effusion\n",
            "1098 How can you confirm contrast was used?\n",
            "1099 How do you know if contrast was used?\n",
            "1100 Which way is the trachea deviating in this image?\n",
            "1101 Where is/are the trachea located?\n",
            "1102 what shape would the lesion be if this were a subdural hematoma?\n",
            "1103 What shape is the lesion in a subdural hematoma?\n",
            "1104 what is the pathology?\n",
            "1105 What is abnormal in this image?\n",
            "1106 What is abnormal in this image?\n",
            "1107 What is abnormal in this image?\n",
            "1108 What vascular territory is the lesion?\n",
            "1109 Where is/are the lesion located?\n",
            "1110 In what vascular territory is the lesion located?\n",
            "1111 Where is/are the lesion located?\n",
            "1112 What is the foreign body?\n",
            "1113 What is/are the foreign body near/in the subclavian vein?\n",
            "1114 Please identify the foreign body.\n",
            "1115 What is/are the foreign body near/in the subclavian vein?\n",
            "1116 What neuro deficits will are predicted by image location?\n",
            "1117 What deficits are suggested by the location of the lesion?\n",
            "1118 what is the most likely etiology\n",
            "1119 What is most likely causing these lesions?\n",
            "1120 where is the pathology?\n",
            "1121 Where is/are the pathology located?\n",
            "1122 Where is the pathology located?\n",
            "1123 Where is/are the pathology located?\n",
            "1124 what is the pathology\n",
            "1125 What is abnormal in this image?\n",
            "1126 What is abnormal in this image?\n",
            "1127 What is abnormal in this image?\n",
            "1128 How can you tell the mass is hemorrhagic and pushing the optic chiasm?\n",
            "1129 Where is the mass?\n",
            "1130 What is the hypodensity on the posteriolateral edge of the left kidney?\n",
            "1131 What is/are the lesion near/in the posterolateral L kidney?\n",
            "1132 What is seen in the posterolateral L kidney?\n",
            "1133 What is/are the lesion near/in the posterolateral L kidney?\n",
            "1134 How can you tell that one side is small Bowen and the other side is large bowel?\n",
            "1135 How do you know that small bowel and colon are on different sides of midline?\n",
            "1136 What are the white nodules on bilateral kidneys?\n",
            "1137 What is/are the hyperintensities near/in the bilateral kidneys?\n",
            "1138 What are the hyperintensities seen in the bilateral kidneys?\n",
            "1139 What is/are the hyperintensities near/in the bilateral kidneys?\n",
            "1140 What symptoms would this patient present with?\n",
            "1141 What did the patient likely complain of?\n",
            "1142 What are the densities in both mid-lung fields?\n",
            "1143 What is/are the densities near/in the lung fields?\n",
            "1144 What do the densities in the lung fields represent?\n",
            "1145 What is/are the densities near/in the lung fields?\n",
            "1146 what are defining Radiological features of large bowel?\n",
            "1147 How do you distinguish large bowel?\n",
            "1148 How can you tell if it�s the common bile duct vs the cystic duct?\n",
            "1149 What differentiates the common bile duct and cystic duct?\n",
            "1150 What are common causes of cystic and cbd obstruction?\n",
            "1151 What can cause these findings on imaging?\n",
            "1152 What lung are the pulmonary nodules in?\n",
            "1153 Where is/are the nodules located?\n",
            "1154 Where are the nodules located?\n",
            "1155 Where is/are the nodules located?\n",
            "1156 What are defining radiological features of the small bowel?\n",
            "1157 How do you identify small bowel?\n",
            "1158 Why does less enhancement mean less acute?\n",
            "1159 What makes a lesion less acute?\n",
            "1160 How do you know this is a T2 weighted image?\n",
            "1161 What tells you that the image is T2?\n",
            "1162 What are the lesions indicative of?\n",
            "1163 What are the lesions consistent with?\n",
            "1164 Where are the lesions located?\n",
            "1165 Where is/are the lesions located?\n",
            "1166 Where are the lesions?\n",
            "1167 Where is/are the lesions located?\n",
            "1168 How common is bilateral Wilms?\n",
            "1169 About how often do you see bilateral Wilms tumor?\n",
            "1170 How would you describe the pathology seen in the above image?\n",
            "1171 How would you describe the pathology in this image?\n",
            "1172 What is the pathology seen in this image?\n",
            "1173 What is the pathology seen above?\n",
            "1174 What is abnormal in this image?\n",
            "1175 What abnormality is seen in this image?\n",
            "1176 What is abnormal in this image?\n",
            "1177 What brain structures would be affected by the lesion in the right frontal area of the brain?\n",
            "1178 What is/are the brain structures affected  near/in the lesion at the right frontal brain area?\n",
            "1179 Which brain structures could be affected by the lesion located in the right frontal brain area?\n",
            "1180 What is/are the brain structures affected  near/in the lesion at the right frontal brain area?\n",
            "1181 Where do we see multiple infarcts in the above image?\n",
            "1182 Where is/are the multiple infarcts located?\n",
            "1183 Location of the multiple infarcts?\n",
            "1184 Where is/are the multiple infarcts located?\n",
            "1185 What organ system is shown in the above image?\n",
            "1186 The image shows what organ system?\n",
            "1187 In what position was the patient in when this image was taken?\n",
            "1188 What position is the patient in for this image?\n",
            "1189 What indicates there is no pleural effusion present?\n",
            "1190 What sign determines the absence of a pleural effusion?\n",
            "1191 What lobe is the infarct in?\n",
            "1192 Where is/are the infarct located?\n",
            "1193 Which lobe is infarcted\n",
            "1194 Where is/are the infarct located?\n",
            "1195 What is the organ pictured superior to the aorta?\n",
            "1196 What is/are the organ near/in the (above the) aorta?\n",
            "1197 What is above the aorta in this image?\n",
            "1198 What is/are the organ near/in the (above the) aorta?\n",
            "1199 Where in the cortex are the lesions present?\n",
            "1200 Which cerebral cortex contains the lesion?\n",
            "1201 Why is there air seen in the bottom of the image?\n",
            "1202 Why is free air present in the image?\n",
            "1203 What indicates there is a consolidation in the right lung?\n",
            "1204 What is the observed sign of pulmonary consolidation on the right side?\n",
            "1205 Name one abnormality in the radiograph.\n",
            "1206 What is abnormal in this image?\n",
            "1207 What is one abnormality that can be seen in the image?\n",
            "1208 What is abnormal in this image?\n",
            "1209 What is the abnormality?\n",
            "1210 What is abnormal in this image?\n",
            "1211 What is wrong in this image?\n",
            "1212 What is abnormal in this image?\n",
            "1213 What abnormal findings are present in this image?\n",
            "1214 What is abnormal in this image?\n",
            "1215 What is the lesion in this image?\n",
            "1216 What is wrong with the aortic area?\n",
            "1217 What is/are wrong with the aorta ?\n",
            "1218 What pathology is shown in the aorta?\n",
            "1219 What is/are wrong with the aorta ?\n",
            "1220 How would you describe the mass on the left kidney?\n",
            "1221 How would you describe the kidney mass?\n",
            "1222 What is the left kidney mass?\n",
            "1223 What is the appearance of the liver?\n",
            "1224 How would you describe the liver?\n",
            "1225 how would you describe the liver?\n",
            "1226 How would you describe the liver?\n",
            "1227 What does the hyperlucency indicate?\n",
            "1228 What pathology does the hyperlucency represent?\n",
            "1229 Where are the hyperintensities located?\n",
            "1230 Where is/are the hyperintensitites located?\n",
            "1231 What is the location of the hyperintensitites?\n",
            "1232 Where is/are the hyperintensitites located?\n",
            "1233 What is the shape of the liver mass?\n",
            "1234 How would you describe the liver mass?\n",
            "1235 How many ribs are superimposed on the lung fields?\n",
            "1236 How many ribs are there?\n",
            "1237 How many ribs are present in vertical order on this chest radiograph\n",
            "1238 How many ribs are there?\n",
            "1239 What is the hypodensity located inside the vertebrae?\n",
            "1240 What is the hypo-dense area seen in the vertebrae?\n"
          ]
        }
      ],
      "source": [
        "import json\n",
        "import h5py\n",
        "import numpy as np\n",
        "import copy\n",
        "from random import shuffle, seed\n",
        "import sys\n",
        "import os.path\n",
        "import argparse\n",
        "import glob\n",
        "import numpy as np\n",
        "import scipy.io\n",
        "import pdb\n",
        "import string\n",
        "import h5py\n",
        "import nltk\n",
        "nltk.download('punkt')\n",
        "from nltk.tokenize import word_tokenize\n",
        "import gensim\n",
        "import json\n",
        "import re\n",
        "import cv2\n",
        "import matplotlib.pyplot as plt\n",
        "\n",
        "\n",
        "\n",
        "def extract_feat(doc):\n",
        "  '''\n",
        "    Input: A sentence\n",
        "    Output : Word Embedding of the sentence \n",
        "\n",
        "    Note : In order to maintain uniformity in the word embedding of the question, I have used padding (which would be shown later) with a maximum length of 21 (since this\n",
        "    is the longest length of the question in trainset_open.json)\n",
        "  '''\n",
        "  feat = []\n",
        "\n",
        "  for word in doc:\n",
        "      try:\n",
        "          feat.append(model_w2v[word])\n",
        "      except:\n",
        "          pass\n",
        "  return feat\n",
        "\n",
        "def tokenize(sentence):\n",
        "\n",
        "    ''' Perform Tokenization '''\n",
        "    return [i for i in re.split(r\"([-.\\\"',:? !\\$#@~()*&\\^%;\\[\\]/\\\\\\+<>\\n=])\", sentence) if i!='' and i!=' ' and i!='\\n']\n",
        "\n",
        "def prepro_question(imgs, method):\n",
        "    # preprocess all the question\n",
        "    print('example processed tokens:')\n",
        "\n",
        "    '''\n",
        "    Input: The question from trainset_open.json\n",
        "    Performs tokenization and lowering of the question\n",
        "    Output: Embedded version of the question\n",
        "\n",
        "    Note that: We have still not padded the questions, just for information each of the word will be a 300 Dimensional Vector,\n",
        "    hence, the word vector (which will be obtained after padding) will be a (21,300) Dimensional\n",
        "    '''\n",
        "    for i,img in enumerate(imgs):\n",
        "        s = img['question'].lower()\n",
        "        if method == 'nltk':\n",
        "            txt = word_tokenize(str(s).lower())\n",
        "        else:\n",
        "            txt = tokenize(s)\n",
        "        img['processed_tokens'] = txt\n",
        "        if i < 10: print(txt)\n",
        "        if i % 1000 == 0:\n",
        "            sys.stdout.write(\"processing %d/%d (%.2f%% done)   \\r\" %  (i, len(img), i*100.0/len(imgs)) )\n",
        "            sys.stdout.flush()   \n",
        "    return imgs\n",
        "\n",
        "def get_top_answers(imgs, num_ans):\n",
        "\n",
        "    \"\"\"\n",
        "    Print the questions and returns the time, one answer is repeated\n",
        "    \"\"\"\n",
        "    counts = {}\n",
        "    for img in imgs:\n",
        "        try:\n",
        "            ans = img['answer'].lower()  # If the string is a number, it would result into error\n",
        "        except :\n",
        "            ans = str(img['answer'])\n",
        "        counts[ans] = counts.get(ans, 0) + 1\n",
        "\n",
        "    cw = sorted([(count,w) for w,count in counts.items()], reverse=True)\n",
        "    print('top answer and their counts:') \n",
        "    print('\\n'.join(map(str,cw[:20])))\n",
        "    \n",
        "    vocab = []\n",
        "    for i in range(min(num_ans,len(cw))):\n",
        "        vocab.append(cw[i][1])\n",
        "\n",
        "    return vocab[:num_ans]\n",
        "\n",
        "\n",
        "manualMap = { 'none': '0', 'zero': '0', 'one': '1', 'two': '2', 'three':\n",
        "                  '3', 'four': '4', 'five': '5', 'six': '6', 'seven': '7',\n",
        "                  'eight': '8', 'nine': '9', 'ten': '10' }\n",
        "\n",
        "imgs_train = json.load(open('./trainset_open.json' , 'r'))      # Unnnecesarily, i have used the same file two times\n",
        "num_ans = 1000\n",
        "top_ans = get_top_answers(imgs_train, num_ans)                         \n",
        "atoi = {w:i for i,w in enumerate(top_ans)}                   # Word : Count\n",
        "itoa = {i:w for i,w in enumerate(top_ans)}                   # Count : Word\n",
        "feat_dim = 300                                               # 300 Dimensional Vector\n",
        "imgs_data_train = json.load(open('./trainset_open.json' , 'r'))  # trainset_open.json\n",
        "num_ans = 10    # Even 1 should work fine, but I had taken reference from COCO dataset, and hence, 10 (10 represents the top 10 answers to a picture)\n",
        "method = 'nltk'\n",
        "max_length = 21                       # Max Length of the question\n",
        "dir_path = \"./QA\"    # The path where we will be storing .h5 file\n",
        "N = len(imgs_data_train)\n",
        "\n",
        "image_path = './../VQA_RAD Image Folder'\n",
        "\n",
        "def save_data():\n",
        "    \n",
        " \n",
        "        for i,img in enumerate(imgs_data_train):\n",
        "            #print('X' , img['ques_id'])\n",
        "            img_path = image_path+img['image_name']  \n",
        "\n",
        "            s = img['question']\n",
        "            print(i,s)   # Print the number and the question\n",
        "            if method == 'nltk':\n",
        "                try:\n",
        "                    txt = word_tokenize(str(s).lower())\n",
        "                except :\n",
        "                    txt = str(s)\n",
        "            else:\n",
        "                    txt = tokenize(s)\n",
        "\n",
        "            img['processed_tokens'] = txt            \n",
        "            question_id = img['qid']\n",
        "            feat = np.array(extract_feat(img['processed_tokens']))\n",
        "            label_arrays = np.zeros((1, max_length, feat_dim), dtype='float32')\n",
        "            label_length = min(max_length, len(feat)) # record the length of this sequence\n",
        "            label_arrays[0, :label_length, :] = feat\n",
        "            try:\n",
        "                ans_arrays = atoi[img['answer'].lower()]\n",
        "            except :\n",
        "                ans_arrays = atoi[str(img['answer'])]\n",
        "\n",
        "            f = h5py.File(os.path.join( dir_path , str(question_id) + '.h5'), \"w\")\n",
        "            f.create_dataset(\"ques_train\", dtype='float32', data=label_arrays)\n",
        "            f.create_dataset(\"answers\", dtype='uint32', data=ans_arrays)\n",
        "            f.close()\n",
        "        return    \n",
        " \n",
        "data = save_data()"
      ]
    },
    {
      "cell_type": "code",
      "execution_count": 36,
      "metadata": {},
      "outputs": [
        {
          "name": "stdout",
          "output_type": "stream",
          "text": [
            "None\n"
          ]
        }
      ],
      "source": [
        "print(data)"
      ]
    },
    {
      "attachments": {},
      "cell_type": "markdown",
      "metadata": {
        "id": "0VZaSN_yCAOc"
      },
      "source": [
        "<a id=\"t1.\"></a>\n",
        "# **PART: 2 Loading and Preparaing the dataset for the Model:**\n",
        "\n",
        "* So, we have saved each of the question vector and answer vector in a .h5 file\n",
        "* Now according to [slides](http://www.cs.virginia.edu/~vicente/vislang/slides/wasimonica.pdf), we need to convert the image into a 448 * 448 * 3 images, and then pass it through some preprocessing layers to convert into 14 * 14 * 512 (which will be reshaped to 196 * 512, where each region will be 1 * 1* 512)\n",
        "* For preprocessing the image, we would use the VGG16 preprocessing layer, which would help in coverting the image to 14 * 14 * 512 dimension ( will be applied while building the model)"
      ]
    },
    {
      "cell_type": "code",
      "execution_count": 4,
      "metadata": {
        "id": "ispHaiEEFhXy"
      },
      "outputs": [],
      "source": [
        "import json\n",
        "import h5py\n",
        "import numpy as np\n",
        "import copy\n",
        "from random import shuffle, seed\n",
        "import sys\n",
        "import os.path\n",
        "import argparse\n",
        "import glob\n",
        "import numpy as np\n",
        "import scipy.io\n",
        "import pdb\n",
        "import string\n",
        "import h5py\n",
        "import nltk\n",
        "from nltk.tokenize import word_tokenize\n",
        "import gensim\n",
        "import json\n",
        "import re\n",
        "import cv2\n",
        "import tensorflow as tf\n",
        "import numpy as np\n",
        "import keras\n",
        "import pandas as pd\n",
        "import os\n",
        "import matplotlib.pyplot as plt\n",
        "dropout_rate = 0.4\n",
        "import matplotlib.pyplot as plt\n",
        "import warnings\n",
        "warnings.filterwarnings('ignore')\n",
        "\n",
        "# -------------------------------------------------------------------------------------------------------------\n",
        "# The below part is same as that of part 1\n",
        "\n",
        "def extract_feat(doc):\n",
        "    feat = []\n",
        "    for word in doc:\n",
        "        try:\n",
        "            feat.append(model_w2v[word])\n",
        "        except:\n",
        "            pass\n",
        "    return feat\n",
        "\n",
        "def tokenize(sentence):\n",
        "    return [i for i in re.split(r\"([-.\\\"',:? !\\$#@~()*&\\^%;\\[\\]/\\\\\\+<>\\n=])\", sentence) if i!='' and i!=' ' and i!='\\n'];\n",
        "\n",
        "def prepro_question(imgs, method):\n",
        "  \n",
        "    # preprocess all the question\n",
        "    print('example processed tokens:')\n",
        "    for i,img in enumerate(imgs):\n",
        "        s = img['question'].lower()\n",
        "        if method == 'nltk':\n",
        "            txt = word_tokenize(str(s).lower())\n",
        "        else:\n",
        "            txt = tokenize(s)\n",
        "        img['processed_tokens'] = txt\n",
        "        if i < 10: print(txt)\n",
        "        if i % 1000 == 0:\n",
        "            sys.stdout.write(\"processing %d/%d (%.2f%% done)   \\r\" %  (i, len(img), i*100.0/len(imgs)) )\n",
        "            sys.stdout.flush()   \n",
        "    return imgs\n",
        "\n",
        "def get_top_answers(imgs, num_ans):\n",
        "    counts = {}\n",
        "    for img in imgs:\n",
        "        try:\n",
        "            ans = img['answer'].lower() \n",
        "        except :\n",
        "            ans = str(img['answer'])\n",
        "        counts[ans] = counts.get(ans, 0) + 1 # Frequency count\n",
        "\n",
        "    cw = sorted([(count,w) for w,count in counts.items()], reverse=True)\n",
        "    # print('top answer and their counts:') \n",
        "    # print('\\n'.join(map(str,cw[:20])))\n",
        "    \n",
        "    vocab = []\n",
        "    for i in range(min(num_ans,len(cw))):\n",
        "        vocab.append(cw[i][1])\n",
        "\n",
        "    return vocab[:num_ans]\n",
        "\n",
        "\n",
        "def filter_question(imgs, atoi):\n",
        "    new_imgs = []\n",
        "    for i, img in enumerate(imgs):\n",
        "            new_imgs.append(img)\n",
        "\n",
        "    print('question number reduce from %d to %d '%(len(imgs), len(new_imgs)))\n",
        "    return new_imgs\n",
        "# Old Part finishes\n",
        "# ---------------------------------------------------------------------------------------------------------------------\n",
        "# New part starts\n",
        "# -------------------------------------------------------------------------------------------------------------------\n",
        "def image_layer(input_shape):\n",
        "    '''\n",
        "    Input : Shape of the image\n",
        "    Output : VGG16 Preprocessing model\n",
        "    '''\n",
        "    base_model = tf.keras.applications.VGG16(input_shape=input_shape, include_top=False,weights='imagenet')\n",
        "    base_model.trainable = False # Do not train it\n",
        "    x = base_model.layers[-2].output  # Shape would be (28*28*512)\n",
        "    x = tf.reshape(x , [-1,x.shape[2]*x.shape[1] , x.shape[3]]) # Shape would be (1,784,512)\n",
        "    x = tf.keras.layers.Dense(1024) # This step can be found out in the slides, that after feature extraction, they are connecting a dense layer, slide - 6 (Transform into a same size vector)\n",
        "    return x\n",
        "\n",
        "def vgg_preprocessing(model,image):\n",
        "  ''' Takes a tensor as an input, and returns a pre processed version of the image'''\n",
        "  return model(image)\n",
        "\n",
        "def load_data():\n",
        "\n",
        "  '''\n",
        "  Input: Nothing\n",
        "\n",
        "  Output: Returns list containing the following four elements in a tuple\n",
        "  (preprocessed version of the image,embedded question,embedded answer, question id)\n",
        "  '''\n",
        "\n",
        "  images = []\n",
        "  questions = []\n",
        "  answers = []\n",
        "  ids = []\n",
        "        \n",
        "  #print(start,end)\n",
        "  #arrs = np.random.randint(0,len(imgs_data_train),batch)\n",
        "  #data = [imgs_data_train[i] for i in arrs]\n",
        "        \n",
        "  data = imgs_data_train   # trainset_open.json\n",
        "  model = image_layer(input_shape = (448,448,3)) # Making VGG16 Model\n",
        "  for i,img in enumerate(data):\n",
        "        \n",
        "      img_path = img['image_name']  # Image Name\n",
        "      question_id = img['qid']      # Question id\n",
        "\n",
        "      #label_arrays = np.zeros((1, max_length, feat_dim), dtype='float32') # Somethings are taken directly from \n",
        "            \n",
        "      with h5py.File(os.path.join(dir_path,str(question_id) + '.h5'),'r') as hf:\n",
        "        question = hf['ques_train'][()] # Embedded question\n",
        "        answer = hf['answers'][()]      # Embedded answer\n",
        "\n",
        "      # print(question, answer)\n",
        "      image = cv2.imread(os.path.join('./../VQA_RAD Image Folder',img_path) , cv2.IMREAD_COLOR) # Reading the image\n",
        "      image = cv2.cvtColor(image , cv2.COLOR_BGR2RGB)\n",
        "      image = cv2.resize(image , (448,448)) # Reshape\n",
        "\n",
        "      '''\n",
        "      Small Note : I had not applied the VGG Preprocessing here, because I wanted to use the original shape of 448, and then, I would \n",
        "      attach the VGG Model, while making the model, I think this makes sense :)\n",
        "      '''\n",
        "      #image = vgg_preprocessing(model,image)\n",
        "      # Apply VGG16 Preprocessings\n",
        "\n",
        "      images.append(image)\n",
        "      questions.append(np.array(question))\n",
        "      answers.append(np.array(answer))\n",
        "      ids.append(question_id)     \n",
        "      if i%100==0:\n",
        "        print(\"Processed =>\",i,' which is',round(100*i/len(data),2),'%')          \n",
        "        \n",
        "  questions = np.reshape(np.array(questions) , [-1,max_length,feat_dim])\n",
        "  return (np.array(images) , questions ,np.array(answers) , np.array(ids))\n",
        "\n",
        "imgs_train = json.load(open('./trainset_open.json' , 'r'))\n",
        "num_ans = 1000\n",
        "top_ans = get_top_answers(imgs_train, num_ans )\n",
        "atoi = {w:i for i,w in enumerate(top_ans)}\n",
        "itoa = {i:w for i,w in enumerate(top_ans)}\n",
        "feat_dim = 300\n",
        "imgs_data_train = json.load(open('./trainset_open.json' , 'r'))\n",
        "num_ans = 10\n",
        "method = 'nltk'\n",
        "max_length = 21\n",
        "dir_path = \"./QA\"\n",
        "N = len(imgs_data_train)\n",
        "\n",
        "# ---------------------------------------------------------------------------------------\n",
        "# New part finishes"
      ]
    },
    {
      "cell_type": "code",
      "execution_count": 5,
      "metadata": {
        "colab": {
          "base_uri": "https://localhost:8080/"
        },
        "id": "xTw0zbmjKibP",
        "outputId": "d70fcb31-a2c7-4882-e762-dede8f656dfe"
      },
      "outputs": [
        {
          "name": "stdout",
          "output_type": "stream",
          "text": [
            "Processed => 0  which is 0.0 %\n",
            "Processed => 100  which is 8.06 %\n",
            "Processed => 200  which is 16.12 %\n",
            "Processed => 300  which is 24.17 %\n",
            "Processed => 400  which is 32.23 %\n",
            "Processed => 500  which is 40.29 %\n",
            "Processed => 600  which is 48.35 %\n",
            "Processed => 700  which is 56.41 %\n",
            "Processed => 800  which is 64.46 %\n",
            "Processed => 900  which is 72.52 %\n",
            "Processed => 1000  which is 80.58 %\n",
            "Processed => 1100  which is 88.64 %\n",
            "Processed => 1200  which is 96.7 %\n"
          ]
        }
      ],
      "source": [
        "import tensorflow as tf\n",
        "import numpy as np\n",
        "import keras,h5py\n",
        "import pandas as pd\n",
        "import os\n",
        "import json\n",
        "from tqdm import tqdm \n",
        "import matplotlib.pyplot as plt\n",
        "import warnings\n",
        "warnings.filterwarnings('ignore')\n",
        "from keras.applications.vgg16 import VGG16\n",
        "import keras.activations\n",
        "import keras.backend as kbe\n",
        "from keras.callbacks import EarlyStopping\n",
        "import tensorflow.keras.layers as layers\n",
        "from keras.layers import Activation, Add, Concatenate, Conv1D, Dense, Dropout, Embedding, Softmax\n",
        "from keras.layers import Input, GlobalMaxPooling1D, Lambda, Multiply, RepeatVector, Reshape\n",
        "from keras.layers import BatchNormalization \n",
        "from keras.models import Model\n",
        "from keras.regularizers import l2\n",
        "import pickle\n",
        "from pprint import pprint\n",
        "\n",
        "''' These parameters are for some of the previous attempts, so ignore it, the main part is : datagen = load_data(), and I don't want to remove all of these,\n",
        "because indeed there can be some ideas coming out from these lines of code'''\n",
        "\n",
        "embed_size = 300\n",
        "q_len = 21\n",
        "height = 224\n",
        "width = 224\n",
        "lstm_units = 256\n",
        "attention_dim = 512\n",
        "num_output = 1000\n",
        "max_questions = 3064\n",
        "\n",
        "batch_size = 32\n",
        "lr = 0.001\n",
        "articles = ['a', 'an', 'the']\n",
        "manualMap = { 'none': '0', 'zero': '0', 'one': '1', 'two': '2', 'three':\n",
        "                  '3', 'four': '4', 'five': '5', 'six': '6', 'seven': '7',\n",
        "                  'eight': '8', 'nine': '9', 'ten': '10' }\n",
        "\n",
        "\n",
        "datagen = load_data()   # Load the Data"
      ]
    },
    {
      "attachments": {},
      "cell_type": "markdown",
      "metadata": {
        "id": "KVk6XBwjnSTS"
      },
      "source": [
        "### Creating the Dataset: We do this, by renaming the contents of .h5 file"
      ]
    },
    {
      "cell_type": "code",
      "execution_count": 6,
      "metadata": {
        "id": "f4I___SgW0ii"
      },
      "outputs": [],
      "source": [
        "from tqdm import tqdm"
      ]
    },
    {
      "cell_type": "code",
      "execution_count": 7,
      "metadata": {
        "colab": {
          "base_uri": "https://localhost:8080/"
        },
        "id": "OFac_DuaB_1g",
        "outputId": "392ce4c5-469f-4545-a03f-27b0596bc9f6"
      },
      "outputs": [
        {
          "name": "stdout",
          "output_type": "stream",
          "text": [
            "Images have a size of: (1241, 448, 448, 3)\n",
            "Questions have a size of: (1241, 21, 300)\n",
            "Answers have a size of: (1241,)\n",
            "Ids have a size of: (1241,)\n",
            "./QA\n"
          ]
        },
        {
          "name": "stderr",
          "output_type": "stream",
          "text": [
            "  2%|▏         | 27/1241 [00:00<00:04, 260.15it/s]"
          ]
        },
        {
          "name": "stdout",
          "output_type": "stream",
          "text": [
            "Processed => 0  total percentage => 0.0  %\n"
          ]
        },
        {
          "name": "stderr",
          "output_type": "stream",
          "text": [
            " 12%|█▏        | 154/1241 [00:00<00:03, 294.70it/s]"
          ]
        },
        {
          "name": "stdout",
          "output_type": "stream",
          "text": [
            "Processed => 100  total percentage => 8.06  %\n"
          ]
        },
        {
          "name": "stderr",
          "output_type": "stream",
          "text": [
            " 17%|█▋        | 213/1241 [00:00<00:04, 244.84it/s]"
          ]
        },
        {
          "name": "stdout",
          "output_type": "stream",
          "text": [
            "Processed => 200  total percentage => 16.12  %\n"
          ]
        },
        {
          "name": "stderr",
          "output_type": "stream",
          "text": [
            " 25%|██▌       | 313/1241 [00:01<00:06, 136.67it/s]"
          ]
        },
        {
          "name": "stdout",
          "output_type": "stream",
          "text": [
            "Processed => 300  total percentage => 24.17  %\n"
          ]
        },
        {
          "name": "stderr",
          "output_type": "stream",
          "text": [
            " 33%|███▎      | 414/1241 [00:02<00:06, 133.43it/s]"
          ]
        },
        {
          "name": "stdout",
          "output_type": "stream",
          "text": [
            "Processed => 400  total percentage => 32.23  %\n"
          ]
        },
        {
          "name": "stderr",
          "output_type": "stream",
          "text": [
            " 41%|████▏     | 514/1241 [00:03<00:05, 128.87it/s]"
          ]
        },
        {
          "name": "stdout",
          "output_type": "stream",
          "text": [
            "Processed => 500  total percentage => 40.29  %\n"
          ]
        },
        {
          "name": "stderr",
          "output_type": "stream",
          "text": [
            " 50%|████▉     | 620/1241 [00:03<00:04, 132.54it/s]"
          ]
        },
        {
          "name": "stdout",
          "output_type": "stream",
          "text": [
            "Processed => 600  total percentage => 48.35  %\n"
          ]
        },
        {
          "name": "stderr",
          "output_type": "stream",
          "text": [
            " 59%|█████▊    | 727/1241 [00:04<00:03, 147.61it/s]"
          ]
        },
        {
          "name": "stdout",
          "output_type": "stream",
          "text": [
            "Processed => 700  total percentage => 56.41  %\n"
          ]
        },
        {
          "name": "stderr",
          "output_type": "stream",
          "text": [
            " 65%|██████▌   | 810/1241 [00:05<00:02, 144.61it/s]"
          ]
        },
        {
          "name": "stdout",
          "output_type": "stream",
          "text": [
            "Processed => 800  total percentage => 64.46  %\n"
          ]
        },
        {
          "name": "stderr",
          "output_type": "stream",
          "text": [
            " 77%|███████▋  | 951/1241 [00:05<00:01, 242.75it/s]"
          ]
        },
        {
          "name": "stdout",
          "output_type": "stream",
          "text": [
            "Processed => 900  total percentage => 72.52  %\n"
          ]
        },
        {
          "name": "stderr",
          "output_type": "stream",
          "text": [
            " 84%|████████▍ | 1048/1241 [00:06<00:00, 271.86it/s]"
          ]
        },
        {
          "name": "stdout",
          "output_type": "stream",
          "text": [
            "Processed => 1000  total percentage => 80.58  %\n"
          ]
        },
        {
          "name": "stderr",
          "output_type": "stream",
          "text": [
            " 91%|█████████ | 1126/1241 [00:06<00:00, 226.69it/s]"
          ]
        },
        {
          "name": "stdout",
          "output_type": "stream",
          "text": [
            "Processed => 1100  total percentage => 88.64  %\n"
          ]
        },
        {
          "name": "stderr",
          "output_type": "stream",
          "text": [
            " 98%|█████████▊| 1216/1241 [00:07<00:00, 202.11it/s]"
          ]
        },
        {
          "name": "stdout",
          "output_type": "stream",
          "text": [
            "Processed => 1200  total percentage => 96.7  %\n"
          ]
        },
        {
          "name": "stderr",
          "output_type": "stream",
          "text": [
            "100%|██████████| 1241/1241 [00:07<00:00, 172.71it/s]"
          ]
        },
        {
          "name": "stdout",
          "output_type": "stream",
          "text": [
            "Your processing has been done\n"
          ]
        },
        {
          "name": "stderr",
          "output_type": "stream",
          "text": [
            "\n"
          ]
        }
      ],
      "source": [
        "images,questions,answers,ids =datagen[0],datagen[1],datagen[2],datagen[3]\n",
        "print(\"Images have a size of:\",images.shape)\n",
        "print(\"Questions have a size of:\",questions.shape)\n",
        "print(\"Answers have a size of:\",answers.shape)\n",
        "print(\"Ids have a size of:\",ids.shape)\n",
        "dir_path = r\"./QA\" # The directory where the .h5 file for each entry is saved\n",
        "print(dir_path)\n",
        "m = 100\n",
        "for i in tqdm(range(images.shape[0])):\n",
        "\n",
        "    filename = os.path.join( dir_path , str(ids[i])) + '.h5'\n",
        "\n",
        "    with h5py.File(filename,'r+') as f:\n",
        "      f.create_dataset(\"quest1_train\", dtype='float32', data=questions[i]) # Question Embedding\n",
        "      f.create_dataset(\"imaget1_vector\", dtype='float32', data=images[i]) # Image Embedding (Not preprocessed)\n",
        "      f.create_dataset(\"answerst1\", dtype='uint32', data=answers[i])      # Answers in embedded form\n",
        "      # Check if file is already open\n",
        "\n",
        "    if i%m ==0:\n",
        "        print(\"Processed =>\", i,' total percentage =>', round(100*i/images.shape[0],2),' %')\n",
        "print(\"Your processing has been done\")"
      ]
    },
    {
      "attachments": {},
      "cell_type": "markdown",
      "metadata": {
        "id": "3xKCty8ABGZB"
      },
      "source": [
        "<a id=\"t2.\"></a>\n",
        "# **PART: 3 Making the Model**  ( START RUNNING FROM THIS CELL, IF YOU HAVE ALREADY RAN IT ONCE, AND IS RUNING AGAIN)\n",
        "So, we go by the following rule:\n",
        "\n",
        "1. Pre-process the image (making it (None,196,512)), where 196 represents 196 regions, wach of 32 * 32 pixel\n",
        "2. Make it of the same size of that of question embedding \n",
        "3. Now, we will pass the ques layer through LSTM, and pass preprocessed.\n",
        "4. Then, we will concatenate both the vectors, and then, pass through dense layers, and final layer with softmax function\n",
        "5. The loss function is Sparse Categorical Cross Entropy, optimizer is Adam with learning rate of 0.01, and batch size of 32, and for 50 epochs"
      ]
    },
    {
      "cell_type": "code",
      "execution_count": 8,
      "metadata": {
        "colab": {
          "base_uri": "https://localhost:8080/"
        },
        "id": "h4mGx-nQBvVo",
        "outputId": "e204dc97-bb5f-4687-f236-585c804c9009"
      },
      "outputs": [
        {
          "name": "stderr",
          "output_type": "stream",
          "text": [
            " 10%|▉         | 15/156 [00:00<00:05, 27.38it/s]"
          ]
        },
        {
          "name": "stdout",
          "output_type": "stream",
          "text": [
            "Processed 100 files\n"
          ]
        },
        {
          "name": "stderr",
          "output_type": "stream",
          "text": [
            " 19%|█▉        | 30/156 [00:01<00:04, 26.34it/s]"
          ]
        },
        {
          "name": "stdout",
          "output_type": "stream",
          "text": [
            "Processed 200 files\n"
          ]
        },
        {
          "name": "stderr",
          "output_type": "stream",
          "text": [
            " 27%|██▋       | 42/156 [00:01<00:04, 27.08it/s]"
          ]
        },
        {
          "name": "stdout",
          "output_type": "stream",
          "text": [
            "Processed 300 files\n"
          ]
        },
        {
          "name": "stderr",
          "output_type": "stream",
          "text": [
            " 35%|███▍      | 54/156 [00:02<00:03, 27.60it/s]"
          ]
        },
        {
          "name": "stdout",
          "output_type": "stream",
          "text": [
            "Processed 400 files\n"
          ]
        },
        {
          "name": "stderr",
          "output_type": "stream",
          "text": [
            " 43%|████▎     | 67/156 [00:02<00:03, 26.95it/s]"
          ]
        },
        {
          "name": "stdout",
          "output_type": "stream",
          "text": [
            "Processed 500 files\n"
          ]
        },
        {
          "name": "stderr",
          "output_type": "stream",
          "text": [
            " 51%|█████     | 79/156 [00:02<00:02, 26.44it/s]"
          ]
        },
        {
          "name": "stdout",
          "output_type": "stream",
          "text": [
            "Processed 600 files\n"
          ]
        },
        {
          "name": "stderr",
          "output_type": "stream",
          "text": [
            " 58%|█████▊    | 91/156 [00:03<00:02, 29.25it/s]"
          ]
        },
        {
          "name": "stdout",
          "output_type": "stream",
          "text": [
            "Processed 700 files\n"
          ]
        },
        {
          "name": "stderr",
          "output_type": "stream",
          "text": [
            " 66%|██████▌   | 103/156 [00:04<00:02, 19.93it/s]"
          ]
        },
        {
          "name": "stdout",
          "output_type": "stream",
          "text": [
            "Processed 800 files\n"
          ]
        },
        {
          "name": "stderr",
          "output_type": "stream",
          "text": [
            " 74%|███████▎  | 115/156 [00:04<00:02, 19.98it/s]"
          ]
        },
        {
          "name": "stdout",
          "output_type": "stream",
          "text": [
            "Processed 900 files\n"
          ]
        },
        {
          "name": "stderr",
          "output_type": "stream",
          "text": [
            " 83%|████████▎ | 129/156 [00:05<00:01, 20.30it/s]"
          ]
        },
        {
          "name": "stdout",
          "output_type": "stream",
          "text": [
            "Processed 1000 files\n"
          ]
        },
        {
          "name": "stderr",
          "output_type": "stream",
          "text": [
            " 90%|████████▉ | 140/156 [00:05<00:00, 19.16it/s]"
          ]
        },
        {
          "name": "stdout",
          "output_type": "stream",
          "text": [
            "Processed 1100 files\n"
          ]
        },
        {
          "name": "stderr",
          "output_type": "stream",
          "text": [
            " 99%|█████████▊| 154/156 [00:06<00:00, 19.13it/s]"
          ]
        },
        {
          "name": "stdout",
          "output_type": "stream",
          "text": [
            "Processed 1200 files\n"
          ]
        },
        {
          "name": "stderr",
          "output_type": "stream",
          "text": [
            "100%|██████████| 156/156 [00:06<00:00, 23.04it/s]\n"
          ]
        }
      ],
      "source": [
        "# link - http://www.cs.virginia.edu/~vicente/vislang/slides/wasimonica.pdf\n",
        "import os,h5py\n",
        "# Image Model\n",
        "import tensorflow as tf\n",
        "import numpy as np\n",
        "from tqdm import tqdm\n",
        "from tensorflow.keras import Model\n",
        "import warnings\n",
        "warnings.filterwarnings('ignore')\n",
        "\n",
        "'''  Preprocessing with the VGG 16 Model  '''\n",
        "\n",
        "model = tf.keras.applications.VGG16(include_top=False,weights='imagenet',\n",
        "        input_shape=(448,448,3))\n",
        "#print(\"The Last layer\")\n",
        "last_layer = model.layers[-1].output   # Last layer has an output layer of (14,14,512)\n",
        "model = Model(model.input,last_layer)\n",
        "model.trainable = False\n",
        "# print(model.summary())\n",
        "def extract_feature(image):\n",
        "    ''' Preprocessing with VGG Netowrk'''\n",
        "    image = model(image)\n",
        "    return image  # Shape is (196,512)\n",
        "\n",
        "'''  The below model will convert (196,512) to (21,300) (i.e same as the dimension of word embedding)  '''\n",
        "\n",
        "dimen_red = tf.keras.Sequential()  # Use for converting (196,512) -> (21,300)\n",
        "dimen_red.add(tf.keras.layers.Conv2D(300,kernel_size=(1,1),input_shape= (14,14,512)))\n",
        "dimen_red.add(tf.keras.layers.Reshape((196,300)))\n",
        "dimen_red.add(tf.keras.layers.Permute((2,1)))  # Reshaping about the axis, useful for applying the dense network\n",
        "dimen_red.add(tf.keras.layers.Dense(21))\n",
        "dimen_red.add(tf.keras.layers.Permute((2,1)))  # Reshaping about the axis, useful for applying the dense network\n",
        "\n",
        "train_dir = r\"./QA/\" # Containing .h5 file\n",
        "images = []\n",
        "answers = []\n",
        "questions = []\n",
        "count = 0\n",
        "content = os.listdir(train_dir)   # The GPU Memory became full after this, hence had to take just these much samples :(\n",
        "length = len(content)\n",
        "batch_size = 8\n",
        "num_batches = int(np.ceil(len(content) / batch_size))\n",
        "\n",
        "for batch_idx in tqdm(range(num_batches)):\n",
        "    batch_start = batch_idx * batch_size\n",
        "    batch_end = min(batch_start + batch_size, len(content))\n",
        "    batch_files = content[batch_start:batch_end]\n",
        "\n",
        "    # Loop over the HDF5 files in the current batch and read the data\n",
        "    for i in batch_files:\n",
        "        file = h5py.File(train_dir + i, 'r')\n",
        "        images.append(np.array(file['imaget1_vector'][()]))\n",
        "        answers.append(np.array(file['answerst1'][()]))\n",
        "        questions.append(np.array(file['quest1_train'][()]))\n",
        "\n",
        "        file.close()\n",
        "\n",
        "        # Print progress every 100 files\n",
        "        if len(images) % 100 == 0:\n",
        "            print(f\"Processed {len(images)} files\")\n",
        "\n",
        "# Convert the data to TensorFlow tensors\n",
        "images = tf.convert_to_tensor(np.array(images))\n",
        "answers = tf.convert_to_tensor(np.array(answers))\n",
        "questions = tf.convert_to_tensor(np.array(questions))\n",
        "\n"
      ]
    },
    {
      "cell_type": "code",
      "execution_count": 9,
      "metadata": {
        "id": "NWOEsgqCMylS"
      },
      "outputs": [
        {
          "name": "stdout",
          "output_type": "stream",
          "text": [
            "The count is: 0 and the percentage proportion is: 0.0 %\n",
            "The count is: 100 and the percentage proportion is: 8.06 %\n",
            "The count is: 200 and the percentage proportion is: 16.12 %\n",
            "The count is: 300 and the percentage proportion is: 24.17 %\n",
            "The count is: 400 and the percentage proportion is: 32.23 %\n",
            "The count is: 500 and the percentage proportion is: 40.29 %\n",
            "The count is: 600 and the percentage proportion is: 48.35 %\n",
            "The count is: 700 and the percentage proportion is: 56.41 %\n",
            "The count is: 800 and the percentage proportion is: 64.46 %\n",
            "The count is: 900 and the percentage proportion is: 72.52 %\n",
            "The count is: 1000 and the percentage proportion is: 80.58 %\n",
            "The count is: 1100 and the percentage proportion is: 88.64 %\n",
            "The count is: 1200 and the percentage proportion is: 96.7 %\n"
          ]
        }
      ],
      "source": [
        "\n",
        "import tensorflow as tf\n",
        "import numpy as np\n",
        "\n",
        "l = []\n",
        "length = np.array(images).shape[0]\n",
        "for i, img in enumerate(images):\n",
        "    img = tf.reshape(img, (1, 448, 448, 3))\n",
        "    l.append(model(img))  # Assuming `model` is a TensorFlow model\n",
        "\n",
        "    if i % 100 == 0:\n",
        "        print(\"The count is:\", i, \"and the percentage proportion is:\", round(100 * i / length, 2), '%')\n",
        "\n",
        "images = tf.convert_to_tensor(np.array(l))\n",
        "\n"
      ]
    },
    {
      "cell_type": "code",
      "execution_count": 10,
      "metadata": {
        "id": "CrGe6rAbSKfF"
      },
      "outputs": [
        {
          "name": "stdout",
          "output_type": "stream",
          "text": [
            "The count is: 0 and the percentage proportion is: 0.0 %\n",
            "The count is: 100 and the percentage proportion is: 8.06 %\n",
            "The count is: 200 and the percentage proportion is: 16.12 %\n",
            "The count is: 300 and the percentage proportion is: 24.17 %\n",
            "The count is: 400 and the percentage proportion is: 32.23 %\n",
            "The count is: 500 and the percentage proportion is: 40.29 %\n",
            "The count is: 600 and the percentage proportion is: 48.35 %\n",
            "The count is: 700 and the percentage proportion is: 56.41 %\n",
            "The count is: 800 and the percentage proportion is: 64.46 %\n",
            "The count is: 900 and the percentage proportion is: 72.52 %\n",
            "The count is: 1000 and the percentage proportion is: 80.58 %\n",
            "The count is: 1100 and the percentage proportion is: 88.64 %\n",
            "The count is: 1200 and the percentage proportion is: 96.7 %\n"
          ]
        }
      ],
      "source": [
        "l = []\n",
        "length = images.shape[0]\n",
        "for i,j in enumerate(images):\n",
        "  l.append(dimen_red(j))     # Making it to the same shape as that of question embedding\n",
        "  if i%100 ==0:\n",
        "    print(\"The count is:\",i,\"and the percentage proportion is:\",round(100*i/length,2),'%')\n",
        "images = tf.convert_to_tensor(np.array(l))"
      ]
    },
    {
      "cell_type": "code",
      "execution_count": 11,
      "metadata": {
        "id": "Ax8JyuGgWnRv"
      },
      "outputs": [],
      "source": [
        "images = tf.reshape(images,[length,21,300])\n",
        "img = images  #Tensor containing images\n",
        "que = questions  # Tensor containing question vector\n",
        "img = img/255.0 # Normalizing"
      ]
    },
    {
      "cell_type": "code",
      "execution_count": 12,
      "metadata": {
        "id": "pbFNRaVlnG9E"
      },
      "outputs": [
        {
          "data": {
            "text/plain": [
              "((1241, 21, 300), (1241, 21, 300), (1241,))"
            ]
          },
          "execution_count": 12,
          "metadata": {},
          "output_type": "execute_result"
        }
      ],
      "source": [
        "np.array(que).shape,np.array(img).shape,np.array(answers).shape"
      ]
    },
    {
      "cell_type": "code",
      "execution_count": 13,
      "metadata": {
        "id": "1ngY_BVAxDDG"
      },
      "outputs": [],
      "source": [
        "''' The below mentioned two Input objects of keras will be useful for making the model '''\n",
        "\n",
        "ques = tf.keras.layers.Input((21,300))  # Input Model (for ques)\n",
        "images = tf.keras.layers.Input((21,300)) # Input Model (for images)"
      ]
    },
    {
      "cell_type": "code",
      "execution_count": 14,
      "metadata": {
        "id": "r8VSA4N9i3Mp"
      },
      "outputs": [],
      "source": [
        "from keras.utils import to_categorical\n",
        "from keras.models import Sequential\n",
        "from keras.layers import Dense, Dropout, Embedding, LSTM, GlobalMaxPooling1D, SpatialDropout1D,Flatten,Concatenate,MultiHeadAttention\n",
        "\n",
        "''' Imagica is for the preprocessing of the image part'''\n",
        "imagica = Dense(512,activation='tanh')(images)\n",
        "imagica = Dense(512,activation='tanh')(images)\n",
        "\n",
        "\n",
        "''' quesa is for the ques layer, which means preprocessing of the question layer'''\n",
        "quesa = LSTM(512, dropout = 0.3,return_sequences = True,input_shape = (21,300))(ques)\n",
        "quesa = Dense(512, activation = 'relu')(quesa)\n",
        "quesa = Dropout(0.3)(quesa)\n",
        "quesa = Dense(512, activation = 'relu')(quesa)\n",
        "quesa = Dropout(0.3)(quesa)\n",
        "\n",
        "''' Concatenating both image and the question layer'''\n",
        "# quesa = Concatenate()([quesa,imagica])\n",
        "# quesa = Flatten()(quesa)\n",
        "num_attention_heads = 4\n",
        "key_dim = 32\n",
        "\n",
        "\n",
        "quesa = Concatenate()([quesa, imagica])"
      ]
    },
    {
      "cell_type": "code",
      "execution_count": 15,
      "metadata": {},
      "outputs": [
        {
          "data": {
            "text/plain": [
              "((1241, 21, 300), (1241, 21, 300), (1241,))"
            ]
          },
          "execution_count": 15,
          "metadata": {},
          "output_type": "execute_result"
        }
      ],
      "source": [
        "np.array(que).shape,np.array(img).shape,np.array(answers).shape"
      ]
    },
    {
      "cell_type": "code",
      "execution_count": 16,
      "metadata": {},
      "outputs": [],
      "source": [
        "from keras.layers import Dense, Dropout, Embedding, LSTM, GlobalMaxPooling1D, SpatialDropout1D,Flatten,Concatenate,Attention\n",
        "\n",
        "quesa = Flatten()(quesa)\n",
        "out = tf.keras.layers.Dense(tf.keras.utils.to_categorical(answers).shape[1],activation='softmax')(quesa) # Final output has 476 different categories, you can check by finding length of uniquue answers :)"
      ]
    },
    {
      "attachments": {},
      "cell_type": "markdown",
      "metadata": {
        "id": "woaDbBeRwQ8t"
      },
      "source": [
        "## Plotting the Model"
      ]
    },
    {
      "cell_type": "code",
      "execution_count": 17,
      "metadata": {
        "id": "Gg814dARWXKC"
      },
      "outputs": [
        {
          "name": "stdout",
          "output_type": "stream",
          "text": [
            "You must install pydot (`pip install pydot`) and install graphviz (see instructions at https://graphviz.gitlab.io/download/) for plot_model to work.\n"
          ]
        }
      ],
      "source": [
        "from keras.utils.vis_utils import plot_model\n",
        "model = Model([ques,images],[out])\n",
        "plot_model(model, to_file='model_plot.png', show_shapes=True, show_layer_names=True)"
      ]
    },
    {
      "attachments": {},
      "cell_type": "markdown",
      "metadata": {
        "id": "_eVCKX_Kwdfw"
      },
      "source": [
        "## Compiling and fitting the model"
      ]
    },
    {
      "cell_type": "code",
      "execution_count": 18,
      "metadata": {
        "id": "UG6a7918j0V-"
      },
      "outputs": [],
      "source": [
        "model.compile(optimizer=tf.keras.optimizers.Adam(learning_rate = 0.01),loss ='categorical_crossentropy',metrics=['accuracy'])\n",
        "# from tensorflow.keras import metrics\n",
        "\n",
        "# model.compile(optimizer=tf.keras.optimizers.Adam(learning_rate = 0.01),loss ='categorical_crossentropy',metrics=[metrics.mean_absolute_error])"
      ]
    },
    {
      "cell_type": "code",
      "execution_count": 19,
      "metadata": {},
      "outputs": [
        {
          "data": {
            "text/plain": [
              "TensorShape([1241])"
            ]
          },
          "execution_count": 19,
          "metadata": {},
          "output_type": "execute_result"
        }
      ],
      "source": [
        "answers.shape"
      ]
    },
    {
      "cell_type": "code",
      "execution_count": 20,
      "metadata": {
        "id": "Ic4nCZl_3xwM"
      },
      "outputs": [],
      "source": [
        "answers = tf.keras.utils.to_categorical(answers)"
      ]
    },
    {
      "cell_type": "code",
      "execution_count": 21,
      "metadata": {},
      "outputs": [
        {
          "data": {
            "text/plain": [
              "(1241, 446)"
            ]
          },
          "execution_count": 21,
          "metadata": {},
          "output_type": "execute_result"
        }
      ],
      "source": [
        "answers.shape"
      ]
    },
    {
      "cell_type": "code",
      "execution_count": 22,
      "metadata": {
        "id": "nQnjyDfKj1dX"
      },
      "outputs": [
        {
          "name": "stdout",
          "output_type": "stream",
          "text": [
            "Model: \"model_1\"\n",
            "__________________________________________________________________________________________________\n",
            " Layer (type)                   Output Shape         Param #     Connected to                     \n",
            "==================================================================================================\n",
            " input_3 (InputLayer)           [(None, 21, 300)]    0           []                               \n",
            "                                                                                                  \n",
            " lstm (LSTM)                    (None, 21, 512)      1665024     ['input_3[0][0]']                \n",
            "                                                                                                  \n",
            " dense_4 (Dense)                (None, 21, 512)      262656      ['lstm[0][0]']                   \n",
            "                                                                                                  \n",
            " dropout (Dropout)              (None, 21, 512)      0           ['dense_4[0][0]']                \n",
            "                                                                                                  \n",
            " dense_5 (Dense)                (None, 21, 512)      262656      ['dropout[0][0]']                \n",
            "                                                                                                  \n",
            " input_4 (InputLayer)           [(None, 21, 300)]    0           []                               \n",
            "                                                                                                  \n",
            " dropout_1 (Dropout)            (None, 21, 512)      0           ['dense_5[0][0]']                \n",
            "                                                                                                  \n",
            " dense_3 (Dense)                (None, 21, 512)      154112      ['input_4[0][0]']                \n",
            "                                                                                                  \n",
            " concatenate (Concatenate)      (None, 21, 1024)     0           ['dropout_1[0][0]',              \n",
            "                                                                  'dense_3[0][0]']                \n",
            "                                                                                                  \n",
            " flatten (Flatten)              (None, 21504)        0           ['concatenate[0][0]']            \n",
            "                                                                                                  \n",
            " dense_6 (Dense)                (None, 446)          9591230     ['flatten[0][0]']                \n",
            "                                                                                                  \n",
            "==================================================================================================\n",
            "Total params: 11,935,678\n",
            "Trainable params: 11,935,678\n",
            "Non-trainable params: 0\n",
            "__________________________________________________________________________________________________\n"
          ]
        }
      ],
      "source": [
        "model.summary()"
      ]
    },
    {
      "cell_type": "code",
      "execution_count": 23,
      "metadata": {},
      "outputs": [
        {
          "data": {
            "text/plain": [
              "((1241, 446), (1241, 21, 300), (1241, 21, 300))"
            ]
          },
          "execution_count": 23,
          "metadata": {},
          "output_type": "execute_result"
        }
      ],
      "source": [
        "np.array(answers).shape,np.array(img).shape,np.array(que).shape"
      ]
    },
    {
      "cell_type": "code",
      "execution_count": 24,
      "metadata": {},
      "outputs": [
        {
          "data": {
            "text/plain": [
              "((1241, 446), (1241, 21, 300), (1241, 21, 300))"
            ]
          },
          "execution_count": 24,
          "metadata": {},
          "output_type": "execute_result"
        }
      ],
      "source": [
        "answers.shape,np.array(img).shape,np.array(que).shape"
      ]
    },
    {
      "cell_type": "code",
      "execution_count": 25,
      "metadata": {
        "id": "SFbamvA_kJtM"
      },
      "outputs": [
        {
          "data": {
            "text/plain": [
              "((1241, 446), (1241, 21, 300), (1241, 21, 300))"
            ]
          },
          "execution_count": 25,
          "metadata": {},
          "output_type": "execute_result"
        }
      ],
      "source": [
        "answers.shape,np.array(img).shape,np.array(que).shape\n",
        "# history = model.fit([np.array(img),np.array(que)],np.array(answers),epochs = 50,batch_size=32,verbose=1)"
      ]
    },
    {
      "attachments": {},
      "cell_type": "markdown",
      "metadata": {
        "id": "2r5uVPs1wrTK"
      },
      "source": [
        "## Saving the Model and analysing the prediction"
      ]
    },
    {
      "cell_type": "code",
      "execution_count": 26,
      "metadata": {},
      "outputs": [
        {
          "name": "stdout",
          "output_type": "stream",
          "text": [
            "Epoch 1/50\n",
            "39/39 [==============================] - 12s 239ms/step - loss: 9.9392 - accuracy: 0.0894\n",
            "Epoch 2/50\n",
            "39/39 [==============================] - 10s 258ms/step - loss: 2.8206 - accuracy: 0.5294\n",
            "Epoch 3/50\n",
            "39/39 [==============================] - 10s 260ms/step - loss: 2.8508 - accuracy: 0.6285\n",
            "Epoch 4/50\n",
            "39/39 [==============================] - 10s 246ms/step - loss: 3.0498 - accuracy: 0.6430\n",
            "Epoch 5/50\n",
            "39/39 [==============================] - 9s 243ms/step - loss: 3.4142 - accuracy: 0.6503\n",
            "Epoch 6/50\n",
            "39/39 [==============================] - 9s 242ms/step - loss: 3.6193 - accuracy: 0.6632\n",
            "Epoch 7/50\n",
            "39/39 [==============================] - 9s 242ms/step - loss: 4.2313 - accuracy: 0.6487\n",
            "Epoch 8/50\n",
            "39/39 [==============================] - 10s 244ms/step - loss: 4.5259 - accuracy: 0.6479\n",
            "Epoch 9/50\n",
            "39/39 [==============================] - 10s 254ms/step - loss: 5.2144 - accuracy: 0.6535\n",
            "Epoch 10/50\n",
            "39/39 [==============================] - 10s 267ms/step - loss: 5.7171 - accuracy: 0.6575\n",
            "Epoch 11/50\n",
            "39/39 [==============================] - 10s 267ms/step - loss: 5.3515 - accuracy: 0.6906\n",
            "Epoch 12/50\n",
            "39/39 [==============================] - 11s 271ms/step - loss: 5.9202 - accuracy: 0.6865\n",
            "Epoch 13/50\n",
            "39/39 [==============================] - 10s 267ms/step - loss: 5.9626 - accuracy: 0.7188\n",
            "Epoch 14/50\n",
            "39/39 [==============================] - 10s 266ms/step - loss: 6.0464 - accuracy: 0.7123\n",
            "Epoch 15/50\n",
            "39/39 [==============================] - 10s 268ms/step - loss: 6.1343 - accuracy: 0.7212\n",
            "Epoch 16/50\n",
            "39/39 [==============================] - 10s 266ms/step - loss: 5.5869 - accuracy: 0.7293\n",
            "Epoch 17/50\n",
            "39/39 [==============================] - 10s 268ms/step - loss: 5.9199 - accuracy: 0.7373\n",
            "Epoch 18/50\n",
            "39/39 [==============================] - 10s 265ms/step - loss: 6.1701 - accuracy: 0.7325\n",
            "Epoch 19/50\n",
            "39/39 [==============================] - 10s 265ms/step - loss: 5.3897 - accuracy: 0.7502\n",
            "Epoch 20/50\n",
            "39/39 [==============================] - 10s 268ms/step - loss: 5.8437 - accuracy: 0.7446\n",
            "Epoch 21/50\n",
            "39/39 [==============================] - 11s 270ms/step - loss: 6.0071 - accuracy: 0.7349\n",
            "Epoch 22/50\n",
            "39/39 [==============================] - 11s 272ms/step - loss: 5.7183 - accuracy: 0.7502\n",
            "Epoch 23/50\n",
            "39/39 [==============================] - 10s 269ms/step - loss: 5.3646 - accuracy: 0.7446\n",
            "Epoch 24/50\n",
            "39/39 [==============================] - 10s 267ms/step - loss: 4.8877 - accuracy: 0.7647\n",
            "Epoch 25/50\n",
            "39/39 [==============================] - 10s 268ms/step - loss: 5.2614 - accuracy: 0.7599\n",
            "Epoch 26/50\n",
            "39/39 [==============================] - 11s 282ms/step - loss: 5.1315 - accuracy: 0.7575\n",
            "Epoch 27/50\n",
            "39/39 [==============================] - 11s 287ms/step - loss: 4.8960 - accuracy: 0.7599\n",
            "Epoch 28/50\n",
            "39/39 [==============================] - 11s 283ms/step - loss: 4.7704 - accuracy: 0.7679\n",
            "Epoch 29/50\n",
            "39/39 [==============================] - 11s 276ms/step - loss: 4.8138 - accuracy: 0.7550\n",
            "Epoch 30/50\n",
            "39/39 [==============================] - 11s 270ms/step - loss: 5.0710 - accuracy: 0.7470\n",
            "Epoch 31/50\n",
            "39/39 [==============================] - 11s 271ms/step - loss: 4.9579 - accuracy: 0.7607\n",
            "Epoch 32/50\n",
            "39/39 [==============================] - 10s 267ms/step - loss: 5.5488 - accuracy: 0.7518\n",
            "Epoch 33/50\n",
            "39/39 [==============================] - 12s 302ms/step - loss: 4.8012 - accuracy: 0.7542\n",
            "Epoch 34/50\n",
            "39/39 [==============================] - 11s 290ms/step - loss: 4.7445 - accuracy: 0.7550\n",
            "Epoch 35/50\n",
            "39/39 [==============================] - 11s 270ms/step - loss: 5.1572 - accuracy: 0.7462\n",
            "Epoch 36/50\n",
            "39/39 [==============================] - 11s 291ms/step - loss: 5.7579 - accuracy: 0.7494\n",
            "Epoch 37/50\n",
            "39/39 [==============================] - 10s 265ms/step - loss: 5.4791 - accuracy: 0.7534\n",
            "Epoch 38/50\n",
            "39/39 [==============================] - 11s 272ms/step - loss: 5.9358 - accuracy: 0.7534\n",
            "Epoch 39/50\n",
            "39/39 [==============================] - 11s 283ms/step - loss: 5.4136 - accuracy: 0.7470\n",
            "Epoch 40/50\n",
            "39/39 [==============================] - 11s 281ms/step - loss: 5.6186 - accuracy: 0.7494\n",
            "Epoch 41/50\n",
            "39/39 [==============================] - 12s 300ms/step - loss: 5.9156 - accuracy: 0.7462\n",
            "Epoch 42/50\n",
            "39/39 [==============================] - 11s 288ms/step - loss: 5.5478 - accuracy: 0.7566\n",
            "Epoch 43/50\n",
            "39/39 [==============================] - 11s 284ms/step - loss: 5.5556 - accuracy: 0.7575\n",
            "Epoch 44/50\n",
            "39/39 [==============================] - 10s 254ms/step - loss: 5.5257 - accuracy: 0.7550\n",
            "Epoch 45/50\n",
            "39/39 [==============================] - 10s 259ms/step - loss: 5.1987 - accuracy: 0.7575\n",
            "Epoch 46/50\n",
            "39/39 [==============================] - 10s 254ms/step - loss: 6.1865 - accuracy: 0.7599\n",
            "Epoch 47/50\n",
            "39/39 [==============================] - 10s 263ms/step - loss: 5.5664 - accuracy: 0.7671\n",
            "Epoch 48/50\n",
            "39/39 [==============================] - 10s 253ms/step - loss: 5.7798 - accuracy: 0.7550\n",
            "Epoch 49/50\n",
            "39/39 [==============================] - 10s 255ms/step - loss: 5.6385 - accuracy: 0.7486\n",
            "Epoch 50/50\n",
            "39/39 [==============================] - 12s 319ms/step - loss: 6.1258 - accuracy: 0.7534\n"
          ]
        }
      ],
      "source": [
        "history = model.fit([np.array(img),np.array(que)],np.array(answers),epochs = 50,batch_size=32,verbose=1)"
      ]
    },
    {
      "cell_type": "code",
      "execution_count": 29,
      "metadata": {},
      "outputs": [
        {
          "name": "stdout",
          "output_type": "stream",
          "text": [
            "39/39 [==============================] - 5s 71ms/step\n"
          ]
        }
      ],
      "source": [
        "prediction = tf.argmax(model.predict([img,(que)]),axis=1).numpy()"
      ]
    },
    {
      "cell_type": "code",
      "execution_count": 47,
      "metadata": {},
      "outputs": [
        {
          "data": {
            "text/plain": [
              "(1241,)"
            ]
          },
          "execution_count": 47,
          "metadata": {},
          "output_type": "execute_result"
        }
      ],
      "source": [
        "prediction.shape"
      ]
    },
    {
      "cell_type": "code",
      "execution_count": 44,
      "metadata": {},
      "outputs": [
        {
          "name": "stdout",
          "output_type": "stream",
          "text": [
            "[285 151 177 ...  20 333 220]\n"
          ]
        }
      ],
      "source": [
        "print(np.argmax(answers,axis=1))"
      ]
    },
    {
      "cell_type": "code",
      "execution_count": 46,
      "metadata": {},
      "outputs": [
        {
          "data": {
            "text/plain": [
              "0.7751813053988719"
            ]
          },
          "execution_count": 46,
          "metadata": {},
          "output_type": "execute_result"
        }
      ],
      "source": [
        "from sklearn.metrics import accuracy_score\n",
        "accuracy_score(np.argmax(answers,axis=1),prediction)"
      ]
    },
    {
      "cell_type": "code",
      "execution_count": 27,
      "metadata": {},
      "outputs": [
        {
          "data": {
            "text/plain": [
              "<matplotlib.legend.Legend at 0x1ca3b10ff50>"
            ]
          },
          "execution_count": 27,
          "metadata": {},
          "output_type": "execute_result"
        },
        {
          "data": {
            "image/png": "[encoded data removed]",
            "text/plain": [
              "<Figure size 640x480 with 1 Axes>"
            ]
          },
          "metadata": {},
          "output_type": "display_data"
        }
      ],
      "source": [
        "plt.plot(history.history['loss'])\n",
        "# plt.plot(history.history['accuracy'])\n",
        "plt.title('model loss')\n",
        "plt.ylabel('loss')\n",
        "plt.xlabel('epoch')\n",
        "plt.legend(['train'], loc='upper left')"
      ]
    },
    {
      "cell_type": "code",
      "execution_count": 28,
      "metadata": {},
      "outputs": [
        {
          "data": {
            "text/plain": [
              "<matplotlib.legend.Legend at 0x1c9aa8a1810>"
            ]
          },
          "execution_count": 28,
          "metadata": {},
          "output_type": "execute_result"
        },
        {
          "data": {
            "image/png": "[encoded data removed]",
            "text/plain": [
              "<Figure size 640x480 with 1 Axes>"
            ]
          },
          "metadata": {},
          "output_type": "display_data"
        }
      ],
      "source": [
        "plt.plot(history.history['accuracy'])\n",
        "# plt.plot(history.history['accuracy'])\n",
        "plt.title('model Accuracy')\n",
        "plt.ylabel('accuracy')\n",
        "plt.xlabel('epoch')\n",
        "plt.legend(['train'], loc='upper left')"
      ]
    },
    {
      "attachments": {},
      "cell_type": "markdown",
      "metadata": {
        "id": "lLk2eZAow1rP"
      },
      "source": [
        "## END OF THE NOTEBOOK :)"
      ]
    }
  ],
  "metadata": {
    "accelerator": "GPU",
    "colab": {
      "gpuType": "T4",
      "provenance": []
    },
    "gpuClass": "standard",
    "kernelspec": {
      "display_name": "Python 3",
      "name": "python3"
    },
    "language_info": {
      "codemirror_mode": {
        "name": "ipython",
        "version": 3
      },
      "file_extension": ".py",
      "mimetype": "text/x-python",
      "name": "python",
      "nbconvert_exporter": "python",
      "pygments_lexer": "ipython3",
      "version": "3.11.3"
    }
  },
  "nbformat": 4,
  "nbformat_minor": 0
}
